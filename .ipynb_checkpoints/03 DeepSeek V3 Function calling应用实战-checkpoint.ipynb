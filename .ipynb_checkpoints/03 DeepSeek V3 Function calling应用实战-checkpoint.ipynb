{
 "cells": [
  {
   "cell_type": "markdown",
   "metadata": {},
   "source": [
    "# 1. Function Calling详细流程剖析"
   ]
  },
  {
   "cell_type": "code",
   "execution_count": 1,
   "metadata": {},
   "outputs": [],
   "source": [
    "import openai\n",
    "import os\n",
    "import numpy as np\n",
    "import pandas as pd\n",
    "import json\n",
    "import io\n",
    "from openai import OpenAI\n",
    "import inspect\n",
    "\n",
    "openai.api_key = \"sk-6fd33eaba5b54e3a9d6f7ff76b2565aa\"\n",
    "openai.api_base= \"https://api.deepseek.com/v1\"\n",
    "\n",
    "\n",
    "client = OpenAI(api_key=openai.api_key ,base_url=openai.api_base)"
   ]
  },
  {
   "cell_type": "code",
   "execution_count": 2,
   "metadata": {},
   "outputs": [
    {
     "name": "stderr",
     "output_type": "stream",
     "text": [
      "<>:8: SyntaxWarning: invalid escape sequence '\\s'\n",
      "<>:8: SyntaxWarning: invalid escape sequence '\\s'\n",
      "/tmp/ipykernel_6653/1962699080.py:8: SyntaxWarning: invalid escape sequence '\\s'\n",
      "  df_new = pd.read_csv(data, sep='\\s+', index_col=0)\n"
     ]
    }
   ],
   "source": [
    "def sunwukong_function(data):\n",
    "    \"\"\"\n",
    "    孙悟空算法函数，该函数定义了数据集计算过程\n",
    "    :param data: 必要参数，表示带入计算的数据表，用字符串进行表示\n",
    "    :return：sunwukong_function函数计算后的结果，返回结果为表示为JSON格式的Dataframe类型对象\n",
    "    \"\"\"\n",
    "    data = io.StringIO(data)\n",
    "    df_new = pd.read_csv(data, sep='\\s+', index_col=0)\n",
    "    res = df_new * 10\n",
    "    return json.dumps(res.to_string())"
   ]
  },
  {
   "cell_type": "code",
   "execution_count": 3,
   "metadata": {},
   "outputs": [
    {
     "data": {
      "text/html": [
       "<div>\n",
       "<style scoped>\n",
       "    .dataframe tbody tr th:only-of-type {\n",
       "        vertical-align: middle;\n",
       "    }\n",
       "\n",
       "    .dataframe tbody tr th {\n",
       "        vertical-align: top;\n",
       "    }\n",
       "\n",
       "    .dataframe thead th {\n",
       "        text-align: right;\n",
       "    }\n",
       "</style>\n",
       "<table border=\"1\" class=\"dataframe\">\n",
       "  <thead>\n",
       "    <tr style=\"text-align: right;\">\n",
       "      <th></th>\n",
       "      <th>x1</th>\n",
       "      <th>x2</th>\n",
       "    </tr>\n",
       "  </thead>\n",
       "  <tbody>\n",
       "    <tr>\n",
       "      <th>0</th>\n",
       "      <td>1</td>\n",
       "      <td>3</td>\n",
       "    </tr>\n",
       "    <tr>\n",
       "      <th>1</th>\n",
       "      <td>2</td>\n",
       "      <td>4</td>\n",
       "    </tr>\n",
       "  </tbody>\n",
       "</table>\n",
       "</div>"
      ],
      "text/plain": [
       "   x1  x2\n",
       "0   1   3\n",
       "1   2   4"
      ]
     },
     "execution_count": 3,
     "metadata": {},
     "output_type": "execute_result"
    }
   ],
   "source": [
    "df = pd.DataFrame({'x1':[1, 2], 'x2':[3, 4]})\n",
    "df"
   ]
  },
  {
   "cell_type": "code",
   "execution_count": 4,
   "metadata": {},
   "outputs": [
    {
     "data": {
      "text/plain": [
       "'   x1  x2\\n0   1   3\\n1   2   4'"
      ]
     },
     "execution_count": 4,
     "metadata": {},
     "output_type": "execute_result"
    }
   ],
   "source": [
    "df_str = df.to_string()\n",
    "df_str"
   ]
  },
  {
   "cell_type": "code",
   "execution_count": 5,
   "metadata": {},
   "outputs": [
    {
     "data": {
      "text/plain": [
       "'\"   x1  x2\\\\n0  10  30\\\\n1  20  40\"'"
      ]
     },
     "execution_count": 5,
     "metadata": {},
     "output_type": "execute_result"
    }
   ],
   "source": [
    "result_json=sunwukong_function(df_str)\n",
    "result_json"
   ]
  },
  {
   "cell_type": "code",
   "execution_count": 6,
   "metadata": {},
   "outputs": [],
   "source": [
    "sunwukong={\n",
    "        \"type\": \"function\",\n",
    "        \"function\": {\"name\": \"sunwukong_function\",\n",
    "                      \"description\": \"用于执行孙悟空算法函数，定义了一种特殊的数据集计算过程\",\n",
    "                      \"parameters\": {\"type\": \"object\",\n",
    "                                     \"properties\": {\"data\": {\"type\": \"string\",\n",
    "                                                             \"description\": \"执行孙悟空算法的数据集\"},\n",
    "                                                   },\n",
    "                                     \"required\": [\"data\"],\n",
    "                                    },\n",
    "                     }\n",
    "    }"
   ]
  },
  {
   "cell_type": "code",
   "execution_count": 7,
   "metadata": {},
   "outputs": [],
   "source": [
    "tools = [sunwukong]"
   ]
  },
  {
   "cell_type": "code",
   "execution_count": 8,
   "metadata": {},
   "outputs": [
    {
     "data": {
      "text/plain": [
       "ChatCompletionMessage(content='\"孙悟空算法\"并不是一个已知的标准算法或术语。如果你指的是某种特定的数据处理或分析方法，请提供更多的细节或描述该算法的具体步骤。\\n\\n如果你只是想对数据集 `data` 进行一些基本的操作，比如计算统计量、绘制图表或进行某种变换，我可以帮助你。以下是一些常见的操作示例：\\n\\n### 1. 计算基本统计量\\n```python\\nimport pandas as pd\\n\\n# 假设数据集 data 是一个字符串\\ndata = \"\"\"x1,x2\\n1,3\\n2,4\"\"\"\\n\\n# 将字符串转换为 DataFrame\\ndf = pd.read_csv(pd.compat.StringIO(data))\\n\\n# 计算基本统计量\\nprint(df.describe())\\n```\\n\\n### 2. 绘制散点图\\n```python\\nimport matplotlib.pyplot as plt\\n\\n# 绘制散点图\\nplt.scatter(df[\\'x1\\'], df[\\'x2\\'])\\nplt.xlabel(\\'x1\\')\\nplt.ylabel(\\'x2\\')\\nplt.title(\\'Scatter Plot of x1 vs x2\\')\\nplt.show()\\n```\\n\\n### 3. 数据标准化\\n```python\\nfrom sklearn.preprocessing import StandardScaler\\n\\n# 标准化数据\\nscaler = StandardScaler()\\ndf_scaled = pd.DataFrame(scaler.fit_transform(df), columns=df.columns)\\nprint(df_scaled)\\n```\\n\\n如果你有特定的算法或操作想要执行，请提供更多信息，我会尽力帮助你！', refusal=None, role='assistant', audio=None, function_call=None, tool_calls=None)"
      ]
     },
     "execution_count": 8,
     "metadata": {},
     "output_type": "execute_result"
    }
   ],
   "source": [
    "messages=[\n",
    "    {\"role\": \"system\", \"content\": \"数据集data：%s，数据集以字符串形式呈现\" % df_str},\n",
    "    {\"role\": \"user\", \"content\": \"请在数据集data上执行孙悟空算法\"}\n",
    "]\n",
    "\n",
    "response =  client.chat.completions.create(\n",
    "  model=\"deepseek-chat\",\n",
    "  messages=messages\n",
    ")\n",
    "response.choices[0].message"
   ]
  },
  {
   "cell_type": "code",
   "execution_count": 9,
   "metadata": {},
   "outputs": [],
   "source": [
    "messages=[\n",
    "    {\"role\": \"system\", \"content\": \"数据集data：%s，数据集以字符串形式呈现\" % df_str},\n",
    "    {\"role\": \"user\", \"content\": \"请在数据集data上执行孙悟空算法\"}\n",
    "]"
   ]
  },
  {
   "cell_type": "code",
   "execution_count": 10,
   "metadata": {},
   "outputs": [
    {
     "data": {
      "text/plain": [
       "ChatCompletionMessage(content='', refusal=None, role='assistant', audio=None, function_call=None, tool_calls=[ChatCompletionMessageToolCall(id='call_0_52fb05a0-4bb4-4342-ba8d-7b18f76d11c7', function=Function(arguments='{\"data\":\"   x1  x2\\\\n0   1   3\\\\n1   2   4\"}', name='sunwukong_function'), type='function', index=0)])"
      ]
     },
     "execution_count": 10,
     "metadata": {},
     "output_type": "execute_result"
    }
   ],
   "source": [
    "response = client.chat.completions.create(\n",
    "        model=\"deepseek-chat\",\n",
    "        messages=messages,\n",
    "        tools=tools,\n",
    "        tool_choice=\"auto\",  \n",
    "    )\n",
    "\n",
    "response.choices[0].message"
   ]
  },
  {
   "cell_type": "code",
   "execution_count": 11,
   "metadata": {},
   "outputs": [
    {
     "data": {
      "text/plain": [
       "ChatCompletionMessage(content='', refusal=None, role='assistant', audio=None, function_call=None, tool_calls=[ChatCompletionMessageToolCall(id='call_0_52fb05a0-4bb4-4342-ba8d-7b18f76d11c7', function=Function(arguments='{\"data\":\"   x1  x2\\\\n0   1   3\\\\n1   2   4\"}', name='sunwukong_function'), type='function', index=0)])"
      ]
     },
     "execution_count": 11,
     "metadata": {},
     "output_type": "execute_result"
    }
   ],
   "source": [
    "first_response = response.choices[0].message\n",
    "first_response"
   ]
  },
  {
   "cell_type": "code",
   "execution_count": 12,
   "metadata": {},
   "outputs": [
    {
     "data": {
      "text/plain": [
       "[ChatCompletionMessageToolCall(id='call_0_52fb05a0-4bb4-4342-ba8d-7b18f76d11c7', function=Function(arguments='{\"data\":\"   x1  x2\\\\n0   1   3\\\\n1   2   4\"}', name='sunwukong_function'), type='function', index=0)]"
      ]
     },
     "execution_count": 12,
     "metadata": {},
     "output_type": "execute_result"
    }
   ],
   "source": [
    "response.choices[0].message.tool_calls"
   ]
  },
  {
   "cell_type": "code",
   "execution_count": 14,
   "metadata": {},
   "outputs": [],
   "source": [
    "##提前定义好函数字典\n",
    "available_tools =  {\n",
    "    \"sunwukong_function\": sunwukong_function\n",
    "}"
   ]
  },
  {
   "cell_type": "code",
   "execution_count": 15,
   "metadata": {},
   "outputs": [
    {
     "name": "stdout",
     "output_type": "stream",
     "text": [
      "sunwukong_function\n",
      "{'data': '   x1  x2\\n0   1   3\\n1   2   4'}\n",
      "\"   x1  x2\\n0  10  30\\n1  20  40\"\n"
     ]
    }
   ],
   "source": [
    "\n",
    "tool_calls = response.choices[0].message.tool_calls\n",
    " \n",
    "for tool_call in tool_calls:\n",
    "    function_name = tool_call.function.name\n",
    "    function_to_call = available_tools[function_name]\n",
    "    function_args = json.loads(tool_call.function.arguments)\n",
    "    function_response = function_to_call(**function_args)\n",
    " \n",
    "\n",
    "print(function_name)\n",
    "print(function_args)\n",
    "print(function_response)\n"
   ]
  },
  {
   "cell_type": "code",
   "execution_count": 16,
   "metadata": {},
   "outputs": [
    {
     "data": {
      "text/plain": [
       "'\"   x1  x2\\\\n0  10  30\\\\n1  20  40\"'"
      ]
     },
     "execution_count": 16,
     "metadata": {},
     "output_type": "execute_result"
    }
   ],
   "source": [
    "function_response = function_to_call(**function_args)\n",
    "function_response"
   ]
  },
  {
   "cell_type": "code",
   "execution_count": 17,
   "metadata": {},
   "outputs": [
    {
     "data": {
      "text/plain": [
       "[{'role': 'system',\n",
       "  'content': '数据集data：   x1  x2\\n0   1   3\\n1   2   4，数据集以字符串形式呈现'},\n",
       " {'role': 'user', 'content': '请在数据集data上执行孙悟空算法'},\n",
       " ChatCompletionMessage(content='', refusal=None, role='assistant', audio=None, function_call=None, tool_calls=[ChatCompletionMessageToolCall(id='call_0_52fb05a0-4bb4-4342-ba8d-7b18f76d11c7', function=Function(arguments='{\"data\":\"   x1  x2\\\\n0   1   3\\\\n1   2   4\"}', name='sunwukong_function'), type='function', index=0)])]"
      ]
     },
     "execution_count": 17,
     "metadata": {},
     "output_type": "execute_result"
    }
   ],
   "source": [
    "# 追加第一次模型返回结果消息\n",
    "messages.append(first_response)  \n",
    "messages"
   ]
  },
  {
   "cell_type": "code",
   "execution_count": 18,
   "metadata": {},
   "outputs": [],
   "source": [
    "# 追加function返回消息\n",
    "messages.append(\n",
    "        {\n",
    "            \"tool_call_id\": tool_call.id,\n",
    "            \"role\": \"tool\",\n",
    "            \"name\": function_name,\n",
    "            \"content\": function_response,\n",
    "        }\n",
    ")"
   ]
  },
  {
   "cell_type": "code",
   "execution_count": 19,
   "metadata": {},
   "outputs": [
    {
     "data": {
      "text/plain": [
       "[{'role': 'system',\n",
       "  'content': '数据集data：   x1  x2\\n0   1   3\\n1   2   4，数据集以字符串形式呈现'},\n",
       " {'role': 'user', 'content': '请在数据集data上执行孙悟空算法'},\n",
       " ChatCompletionMessage(content='', refusal=None, role='assistant', audio=None, function_call=None, tool_calls=[ChatCompletionMessageToolCall(id='call_0_52fb05a0-4bb4-4342-ba8d-7b18f76d11c7', function=Function(arguments='{\"data\":\"   x1  x2\\\\n0   1   3\\\\n1   2   4\"}', name='sunwukong_function'), type='function', index=0)]),\n",
       " {'tool_call_id': 'call_0_52fb05a0-4bb4-4342-ba8d-7b18f76d11c7',\n",
       "  'role': 'tool',\n",
       "  'name': 'sunwukong_function',\n",
       "  'content': '\"   x1  x2\\\\n0  10  30\\\\n1  20  40\"'}]"
      ]
     },
     "execution_count": 19,
     "metadata": {},
     "output_type": "execute_result"
    }
   ],
   "source": [
    "messages"
   ]
  },
  {
   "cell_type": "code",
   "execution_count": 20,
   "metadata": {},
   "outputs": [
    {
     "name": "stdout",
     "output_type": "stream",
     "text": [
      "看起来你提到的“孙悟空算法”并不是一个标准的算法名称。如果你是指某种特定的数据处理或转换方法，请提供更多的细节或描述，这样我可以更好地帮助你。\n",
      "\n",
      "如果你只是想对数据集进行某种操作，比如将每个值乘以10，那么可以这样做：\n",
      "\n",
      "```python\n",
      "import pandas as pd\n",
      "\n",
      "# 数据集\n",
      "data = pd.DataFrame({\n",
      "    'x1': [1, 2],\n",
      "    'x2': [3, 4]\n",
      "})\n",
      "\n",
      "# 孙悟空算法（假设是将每个值乘以10）\n",
      "data = data * 10\n",
      "\n",
      "print(data)\n",
      "```\n",
      "\n",
      "输出结果将是：\n",
      "\n",
      "```\n",
      "   x1  x2\n",
      "0  10  30\n",
      "1  20  40\n",
      "```\n",
      "\n",
      "如果你有其他具体的需求或算法描述，请告诉我！\n"
     ]
    }
   ],
   "source": [
    "second_response = client.chat.completions.create(\n",
    "    model=\"deepseek-chat\",\n",
    "    messages=messages,\n",
    ")\n",
    " \n",
    "\n",
    "print(second_response.choices[0].message.content)"
   ]
  },
  {
   "cell_type": "code",
   "execution_count": 26,
   "metadata": {},
   "outputs": [
    {
     "name": "stderr",
     "output_type": "stream",
     "text": [
      "<>:20: SyntaxWarning: invalid escape sequence '\\s'\n",
      "<>:20: SyntaxWarning: invalid escape sequence '\\s'\n",
      "/tmp/ipykernel_6653/2112146851.py:20: SyntaxWarning: invalid escape sequence '\\s'\n",
      "  df_new = pd.read_csv(data, sep='\\s+', index_col=0)\n"
     ]
    }
   ],
   "source": [
    "from openai import OpenAI\n",
    "import json\n",
    "\n",
    "\n",
    "openai.api_key = \"sk-6fd33eaba5b54e3a9d6f7ff76b2565aa\"\n",
    "openai.api_base= \"https://api.deepseek.com/v1\"\n",
    "\n",
    "\n",
    "client = OpenAI(api_key=openai.api_key ,base_url=openai.api_base)\n",
    "\n",
    "# Example dummy function hard coded to return the same weather\n",
    "# In production, this could be your backend API or an external API\n",
    "def sunwukong_function(data):\n",
    "    \"\"\"\n",
    "    孙悟空算法函数，该函数定义了数据集计算过程\n",
    "    :param data: 必要参数，表示带入计算的数据表，用字符串进行表示\n",
    "    :return：sunwukong_function函数计算后的结果，返回结果为表示为JSON格式的Dataframe类型对象\n",
    "    \"\"\"\n",
    "    data = io.StringIO(data)\n",
    "    df_new = pd.read_csv(data, sep='\\s+', index_col=0)\n",
    "    res = df_new['x1'] * 10\n",
    "    return json.dumps(res.to_string())\n",
    "\n",
    "\n",
    "df_str=pd.DataFrame({'x1':[1, 2], 'x2':[3, 4]}).to_string\n",
    "\n",
    "def run_conversation():\n",
    "    # Step 1: send the conversation and available functions to the model\n",
    "    messages=[\n",
    "    {\"role\": \"system\", \"content\": \"数据集data：%s，使用孙悟空算法进行计算，数据集以字符串形式呈现\" % df_str},\n",
    "    {\"role\": \"user\", \"content\": \"请在数据集data上执行孙悟空算法\"}  \n",
    "        ]\n",
    "    tools = [\n",
    "    {\n",
    "        \"type\": \"function\",\n",
    "        \"function\": {\"name\": \"sunwukong_function\",\n",
    "                      \"description\": \"用于执行孙悟空算法函数，定义了一种特殊的数据集计算过程\",\n",
    "                      \"parameters\": {\"type\": \"object\",\n",
    "                                     \"properties\": {\"data\": {\"type\": \"string\",\n",
    "                                                             \"description\": \"执行孙悟空算法的数据集\"},\n",
    "                                                   },\n",
    "                                     \"required\": [\"data\"],\n",
    "                                    },\n",
    "                     }\n",
    "    }]\n",
    "\n",
    "    response = client.chat.completions.create(\n",
    "        model=\"deepseek-chat\",\n",
    "        messages=messages,\n",
    "        tools=tools,\n",
    "        tool_choice=\"auto\",  # auto is default, but we'll be explicit\n",
    "    )\n",
    "    response_message = response.choices[0].message\n",
    "    tool_calls = response_message.tool_calls\n",
    "    # Step 2: check if the model wanted to call a function\n",
    "    if tool_calls:\n",
    "        # Step 3: call the function\n",
    "        # Note: the JSON response may not always be valid; be sure to handle errors\n",
    "        available_functions = {\n",
    "            \"sunwukong_function\": sunwukong_function,\n",
    "        }  # only one function in this example, but you can have multiple\n",
    "        messages.append(response_message)  # extend conversation with assistant's reply\n",
    "        # Step 4: send the info for each function call and function response to the model\n",
    "        for tool_call in tool_calls:\n",
    "            function_name = tool_call.function.name\n",
    "            function_to_call = available_functions[function_name]\n",
    "            function_args = json.loads(tool_call.function.arguments)\n",
    "            function_response = function_to_call(**function_args)\n",
    "            messages.append(\n",
    "                {\n",
    "                    \"tool_call_id\": tool_call.id,\n",
    "                    \"role\": \"tool\",\n",
    "                    \"name\": function_name,\n",
    "                    \"content\": function_response,\n",
    "                }\n",
    "            )  # extend conversation with function response\n",
    "        second_response = client.chat.completions.create(\n",
    "            model=\"deepseek-chat\",\n",
    "            messages=messages,\n",
    "        )  # get a new response from the model where it can see the function response\n",
    "        return second_response\n",
    "result=run_conversation()"
   ]
  },
  {
   "cell_type": "code",
   "execution_count": 28,
   "metadata": {},
   "outputs": [
    {
     "name": "stdout",
     "output_type": "stream",
     "text": [
      "孙悟空算法是一种虚构的算法，通常用于幽默或教学目的。既然你要求使用孙悟空算法对数据集 `data` 进行计算，我们可以假设孙悟空算法的作用是将数据集中的每个元素乘以 10。\n",
      "\n",
      "给定数据集：\n",
      "```\n",
      "    x1  x2\n",
      "0   1   3\n",
      "1   2   4\n",
      "```\n",
      "\n",
      "应用孙悟空算法后，结果如下：\n",
      "```\n",
      "    x1  x2\n",
      "0   10  30\n",
      "1   20  40\n",
      "```\n",
      "\n",
      "最终结果以字符串形式呈现为：\n",
      "```\n",
      "    x1  x2\n",
      "0   10  30\n",
      "1   20  40\n",
      "```\n",
      "\n",
      "如果你有其他具体的孙悟空算法的定义或要求，请提供更多细节，以便我能够更准确地执行计算。\n"
     ]
    }
   ],
   "source": [
    "print(result.choices[0].message.content)"
   ]
  },
  {
   "cell_type": "markdown",
   "metadata": {},
   "source": [
    "# 2. Function Calling函数封装"
   ]
  },
  {
   "cell_type": "code",
   "execution_count": 29,
   "metadata": {},
   "outputs": [],
   "source": [
    "import openai\n",
    "import os\n",
    "import numpy as np\n",
    "import pandas as pd\n",
    "import json\n",
    "import io\n",
    "from openai import OpenAI\n",
    "\n",
    "\n",
    "openai.api_key = \"sk-6fd33eaba5b54e3a9d6f7ff76b2565aa\"\n",
    "openai.api_base= \"https://api.deepseek.com/v1\"\n",
    "\n",
    "\n",
    "client = OpenAI(api_key=openai.api_key ,base_url=openai.api_base)"
   ]
  },
  {
   "cell_type": "code",
   "execution_count": 30,
   "metadata": {},
   "outputs": [
    {
     "data": {
      "text/plain": [
       "'JSON Schema 是一种用于描述和验证 JSON 数据结构的规范。它提供了一种标准化的方式来定义 JSON 数据的格式、类型、约束条件和其他属性。通过使用 JSON Schema，开发者可以确保 JSON 数据符合预期的结构，从而减少错误并提高数据的可靠性。\\n\\n### JSON Schema 的主要功能\\n1. **定义数据结构**：JSON Schema 可以描述 JSON 对象的结构，包括字段的名称、类型、嵌套关系等。\\n2. **数据验证**：JSON Schema 可以用于验证 JSON 数据是否符合预定义的结构和规则。\\n3. **文档生成**：JSON Schema 可以作为文档，帮助开发者理解 JSON 数据的格式和含义。\\n4. **自动化工具支持**：许多编程语言和工具支持 JSON Schema，可以自动生成代码、验证数据或生成文档。\\n\\n### JSON Schema 的基本结构\\nJSON Schema 本身也是一个 JSON 对象。以下是一个简单的 JSON Schema 示例：\\n\\n```json\\n{\\n  \"$schema\": \"http://json-schema.org/draft-07/schema#\",\\n  \"type\": \"object\",\\n  \"properties\": {\\n    \"name\": {\\n      \"type\": \"string\"\\n    },\\n    \"age\": {\\n      \"type\": \"number\",\\n      \"minimum\": 0\\n    },\\n    \"isStudent\": {\\n      \"type\": \"boolean\"\\n    }\\n  },\\n  \"required\": [\"name\", \"age\"]\\n}\\n```\\n\\n#### 解释：\\n- `$schema`：指定使用的 JSON Schema 版本。\\n- `type`：定义 JSON 数据的类型（如 `object`、`array`、`string`、`number` 等）。\\n- `properties`：定义对象的属性及其类型。\\n- `required`：指定哪些属性是必需的。\\n\\n### 示例验证\\n以下是一个符合上述 Schema 的 JSON 数据：\\n\\n```json\\n{\\n  \"name\": \"John\",\\n  \"age\": 25,\\n  \"isStudent\": false\\n}\\n```\\n\\n如果 JSON 数据不符合 Schema（例如缺少 `name` 字段或 `age` 为负数），验证工具会返回错误信息。\\n\\n### 常用关键字\\n- `type`：数据类型（如 `string`、`number`、`object`、`array` 等）。\\n- `properties`：定义对象的属性。\\n- `required`：指定必需的属性。\\n- `minimum`、`maximum`：数值的最小值和最大值。\\n- `minLength`、`maxLength`：字符串的最小和最大长度。\\n- `pattern`：正则表达式，用于验证字符串格式。\\n- `items`：定义数组元素的类型。\\n- `enum`：指定允许的值列表。\\n\\n### 应用场景\\n- API 数据验证：确保客户端发送的 JSON 数据符合 API 的要求。\\n- 配置文件验证：确保配置文件的格式正确。\\n- 数据交换：在不同系统之间传递数据时，确保数据格式一致。\\n- 自动化测试：验证测试数据是否符合预期结构。\\n\\n### 工具支持\\n许多编程语言和工具支持 JSON Schema，例如：\\n- JavaScript：`ajv`、`jsonschema` 等库。\\n- Python：`jsonschema` 库。\\n- Java：`json-schema-validator` 库。\\n- 在线工具：如 [JSON Schema Validator](https://www.jsonschemavalidator.net/)。\\n\\n通过 JSON Schema，开发者可以更高效地管理和验证 JSON 数据，确保数据的完整性和一致性。'"
      ]
     },
     "execution_count": 30,
     "metadata": {},
     "output_type": "execute_result"
    }
   ],
   "source": [
    "response = client.chat.completions.create(\n",
    "  model=\"deepseek-chat\",\n",
    "  messages=[\n",
    "    {\"role\": \"user\", \"content\": \"什么是JSON Schema？\"}\n",
    "  ]\n",
    ")\n",
    "\n",
    "response.choices[0].message.content"
   ]
  },
  {
   "cell_type": "code",
   "execution_count": 31,
   "metadata": {},
   "outputs": [
    {
     "name": "stderr",
     "output_type": "stream",
     "text": [
      "<>:8: SyntaxWarning: invalid escape sequence '\\s'\n",
      "<>:8: SyntaxWarning: invalid escape sequence '\\s'\n",
      "/tmp/ipykernel_6653/1962699080.py:8: SyntaxWarning: invalid escape sequence '\\s'\n",
      "  df_new = pd.read_csv(data, sep='\\s+', index_col=0)\n"
     ]
    }
   ],
   "source": [
    "def sunwukong_function(data):\n",
    "    \"\"\"\n",
    "    孙悟空算法函数，该函数定义了数据集计算过程\n",
    "    :param data: 必要参数，表示带入计算的数据表，用字符串进行表示\n",
    "    :return：sunwukong_function函数计算后的结果，返回结果为表示为JSON格式的Dataframe类型对象\n",
    "    \"\"\"\n",
    "    data = io.StringIO(data)\n",
    "    df_new = pd.read_csv(data, sep='\\s+', index_col=0)\n",
    "    res = df_new * 10\n",
    "    return json.dumps(res.to_string())"
   ]
  },
  {
   "cell_type": "code",
   "execution_count": 32,
   "metadata": {},
   "outputs": [
    {
     "name": "stderr",
     "output_type": "stream",
     "text": [
      "<>:8: SyntaxWarning: invalid escape sequence '\\s'\n",
      "<>:8: SyntaxWarning: invalid escape sequence '\\s'\n",
      "/tmp/ipykernel_6653/3983267760.py:8: SyntaxWarning: invalid escape sequence '\\s'\n",
      "  df_new = pd.read_csv(data, sep='\\s+', index_col=0)\n"
     ]
    }
   ],
   "source": [
    "# 创建一个DataFrame\n",
    "df = pd.DataFrame({'x1':[1, 2], 'x2':[3, 4]})\n",
    "\n",
    "df_str = df.to_string()\n",
    "\n",
    "data = io.StringIO(df_str)\n",
    "\n",
    "df_new = pd.read_csv(data, sep='\\s+', index_col=0)"
   ]
  },
  {
   "cell_type": "code",
   "execution_count": 33,
   "metadata": {},
   "outputs": [],
   "source": [
    "sunwukong={\n",
    "        \"type\": \"function\",\n",
    "        \"function\": {\"name\": \"sunwukong_function\",\n",
    "                      \"description\": \"用于执行孙悟空算法函数，定义了一种特殊的数据集计算过程\",\n",
    "                      \"parameters\": {\"type\": \"object\",\n",
    "                                     \"properties\": {\"data\": {\"type\": \"string\",\n",
    "                                                             \"description\": \"执行孙悟空算法的数据集\"},\n",
    "                                                   },\n",
    "                                     \"required\": [\"data\"],\n",
    "                                    },\n",
    "                     }\n",
    "        }"
   ]
  },
  {
   "cell_type": "code",
   "execution_count": 34,
   "metadata": {},
   "outputs": [],
   "source": [
    "tools = [sunwukong]"
   ]
  },
  {
   "cell_type": "code",
   "execution_count": 35,
   "metadata": {},
   "outputs": [],
   "source": [
    "available_tools =  {\n",
    "    \"sunwukong_function\": sunwukong_function,\n",
    "}"
   ]
  },
  {
   "cell_type": "code",
   "execution_count": 36,
   "metadata": {},
   "outputs": [
    {
     "name": "stdout",
     "output_type": "stream",
     "text": [
      "孙悟空算法函数，该函数定义了数据集计算过程\n",
      ":param data: 必要参数，表示带入计算的数据表，用字符串进行表示\n",
      ":return：sunwukong_function函数计算后的结果，返回结果为表示为JSON格式的Dataframe类型对象\n"
     ]
    }
   ],
   "source": [
    "import inspect\n",
    "\n",
    "print(inspect.getdoc(sunwukong_function))"
   ]
  },
  {
   "cell_type": "code",
   "execution_count": 37,
   "metadata": {},
   "outputs": [],
   "source": [
    "function_description = inspect.getdoc(sunwukong_function)"
   ]
  },
  {
   "cell_type": "code",
   "execution_count": 38,
   "metadata": {},
   "outputs": [
    {
     "data": {
      "text/plain": [
       "'```json\\n{\\n  \"type\": \"object\",\\n  \"properties\": {\\n    \"data\": {\\n      \"type\": \"string\",\\n      \"description\": \"必要参数，表示带入计算的数据表，用字符串进行表示\"\\n    }\\n  },\\n  \"required\": [\"data\"],\\n  \"additionalProperties\": false\\n}\\n```'"
      ]
     },
     "execution_count": 38,
     "metadata": {},
     "output_type": "execute_result"
    }
   ],
   "source": [
    "response = client.chat.completions.create(\n",
    "  model=\"deepseek-chat\",\n",
    "  messages=[\n",
    "    {\"role\": \"system\", \"content\": \"以下是孙悟空函数的函数说明：%s\" % function_description},\n",
    "    {\"role\": \"user\", \"content\": \"请帮我编写一个JSON Schema对象，用于说明孙悟空函数的参数输入规范。输出结果要求是JSON Schema格式的JONS类型对象，不需要任何前后修饰语句。\"}\n",
    "  ]\n",
    ")\n",
    "response.choices[0].message.content"
   ]
  },
  {
   "cell_type": "code",
   "execution_count": 39,
   "metadata": {},
   "outputs": [
    {
     "name": "stdout",
     "output_type": "stream",
     "text": [
      "```json\n",
      "{\n",
      "  \"type\": \"object\",\n",
      "  \"properties\": {\n",
      "    \"data\": {\n",
      "      \"type\": \"string\",\n",
      "      \"description\": \"必要参数，表示带入计算的数据表，用字符串进行表示\"\n",
      "    }\n",
      "  },\n",
      "  \"required\": [\"data\"],\n",
      "  \"additionalProperties\": false\n",
      "}\n",
      "```\n"
     ]
    }
   ],
   "source": [
    "\n",
    "print(response.choices[0].message.content)\n"
   ]
  },
  {
   "cell_type": "code",
   "execution_count": 40,
   "metadata": {},
   "outputs": [],
   "source": [
    "r=response.choices[0].message.content.replace(\"```\",\"\").replace(\"json\",\"\")"
   ]
  },
  {
   "cell_type": "code",
   "execution_count": 41,
   "metadata": {},
   "outputs": [
    {
     "name": "stdout",
     "output_type": "stream",
     "text": [
      "\n",
      "{\n",
      "  \"type\": \"object\",\n",
      "  \"properties\": {\n",
      "    \"data\": {\n",
      "      \"type\": \"string\",\n",
      "      \"description\": \"必要参数，表示带入计算的数据表，用字符串进行表示\"\n",
      "    }\n",
      "  },\n",
      "  \"required\": [\"data\"],\n",
      "  \"additionalProperties\": false\n",
      "}\n",
      "\n"
     ]
    }
   ],
   "source": [
    "print(r)"
   ]
  },
  {
   "cell_type": "code",
   "execution_count": 202,
   "metadata": {},
   "outputs": [],
   "source": [
    "s='{\\n  \"$schema\": \"http://json-schema.org/draft-07/schema#\",\\n  \"type\": \"object\",\\n  \"properties\": {\\n    \"data\": {\\n      \"type\": \"string\"\\n    }\\n  },\\n  \"required\": [\"data\"]\\n}'"
   ]
  },
  {
   "cell_type": "code",
   "execution_count": 42,
   "metadata": {},
   "outputs": [
    {
     "data": {
      "text/plain": [
       "{'type': 'object',\n",
       " 'properties': {'data': {'type': 'string',\n",
       "   'description': '必要参数，表示带入计算的数据表，用字符串进行表示'}},\n",
       " 'required': ['data'],\n",
       " 'additionalProperties': False}"
      ]
     },
     "execution_count": 42,
     "metadata": {},
     "output_type": "execute_result"
    }
   ],
   "source": [
    "json.loads(r)"
   ]
  },
  {
   "cell_type": "code",
   "execution_count": null,
   "metadata": {},
   "outputs": [],
   "source": []
  },
  {
   "cell_type": "code",
   "execution_count": 43,
   "metadata": {},
   "outputs": [
    {
     "data": {
      "text/plain": [
       "{'type': 'function',\n",
       " 'function': {'name': 'sunwukong_function',\n",
       "  'description': '用于执行孙悟空算法函数，定义了一种特殊的数据集计算过程',\n",
       "  'parameters': {'type': 'object',\n",
       "   'properties': {'data': {'type': 'string', 'description': '执行孙悟空算法的数据集'}},\n",
       "   'required': ['data']}}}"
      ]
     },
     "execution_count": 43,
     "metadata": {},
     "output_type": "execute_result"
    }
   ],
   "source": [
    "sunwukong"
   ]
  },
  {
   "cell_type": "code",
   "execution_count": 44,
   "metadata": {},
   "outputs": [
    {
     "data": {
      "text/plain": [
       "{'type': 'object',\n",
       " 'properties': {'data': {'type': 'string', 'description': '执行孙悟空算法的数据集'}},\n",
       " 'required': ['data']}"
      ]
     },
     "execution_count": 44,
     "metadata": {},
     "output_type": "execute_result"
    }
   ],
   "source": [
    "sunwukong['function']['parameters']"
   ]
  },
  {
   "cell_type": "code",
   "execution_count": 45,
   "metadata": {},
   "outputs": [],
   "source": [
    "system_prompt = '以下是某的函数说明：%s' % function_description\n",
    "user_prompt = '根据这个函数的函数说明，请帮我创建一个JSON格式的字典，这个字典有如下5点要求：\\\n",
    "               1.字典总共有三个键值对；\\\n",
    "               2.第一个键值对的Key是字符串name，value是该函数的名字：%s，也是字符串；\\\n",
    "               3.第二个键值对的Key是字符串description，value是该函数的函数的功能说明，也是字符串；\\\n",
    "               4.第三个键值对的Key是字符串parameters，value是一个JSON Schema对象，用于说明该函数的参数输入规范。\\\n",
    "               5.输出结果必须是一个JSON格式的字典，且不需要任何前后修饰语句' % function_name"
   ]
  },
  {
   "cell_type": "code",
   "execution_count": 46,
   "metadata": {},
   "outputs": [
    {
     "data": {
      "text/plain": [
       "'```json\\n{\\n  \"name\": \"sunwukong_function\",\\n  \"description\": \"该函数定义了数据集计算过程，接受一个字符串表示的数据表作为输入，并返回计算后的结果，结果为JSON格式的Dataframe类型对象。\",\\n  \"parameters\": {\\n    \"type\": \"object\",\\n    \"properties\": {\\n      \"data\": {\\n        \"type\": \"string\",\\n        \"description\": \"必要参数，表示带入计算的数据表，用字符串进行表示\"\\n      }\\n    },\\n    \"required\": [\"data\"]\\n  }\\n}\\n```'"
      ]
     },
     "execution_count": 46,
     "metadata": {},
     "output_type": "execute_result"
    }
   ],
   "source": [
    "response = client.chat.completions.create(\n",
    "  model=\"deepseek-chat\",\n",
    "  messages=[\n",
    "    {\"role\": \"system\", \"content\": system_prompt},\n",
    "    {\"role\": \"user\", \"content\": user_prompt}\n",
    "  ]\n",
    ")\n",
    "response.choices[0].message.content"
   ]
  },
  {
   "cell_type": "code",
   "execution_count": 47,
   "metadata": {},
   "outputs": [
    {
     "name": "stdout",
     "output_type": "stream",
     "text": [
      "```json\n",
      "{\n",
      "  \"name\": \"sunwukong_function\",\n",
      "  \"description\": \"该函数定义了数据集计算过程，接受一个字符串表示的数据表作为输入，并返回计算后的结果，结果为JSON格式的Dataframe类型对象。\",\n",
      "  \"parameters\": {\n",
      "    \"type\": \"object\",\n",
      "    \"properties\": {\n",
      "      \"data\": {\n",
      "        \"type\": \"string\",\n",
      "        \"description\": \"必要参数，表示带入计算的数据表，用字符串进行表示\"\n",
      "      }\n",
      "    },\n",
      "    \"required\": [\"data\"]\n",
      "  }\n",
      "}\n",
      "```\n"
     ]
    }
   ],
   "source": [
    "print(response.choices[0].message.content)"
   ]
  },
  {
   "cell_type": "code",
   "execution_count": 48,
   "metadata": {},
   "outputs": [],
   "source": [
    "json_function_description=json.loads(response.choices[0].message.content.replace(\"```\",\"\").replace(\"json\",\"\"))"
   ]
  },
  {
   "cell_type": "code",
   "execution_count": 49,
   "metadata": {},
   "outputs": [
    {
     "data": {
      "text/plain": [
       "{'name': 'sunwukong_function',\n",
       " 'description': '该函数定义了数据集计算过程，接受一个字符串表示的数据表作为输入，并返回计算后的结果，结果为JSON格式的Dataframe类型对象。',\n",
       " 'parameters': {'type': 'object',\n",
       "  'properties': {'data': {'type': 'string',\n",
       "    'description': '必要参数，表示带入计算的数据表，用字符串进行表示'}},\n",
       "  'required': ['data']}}"
      ]
     },
     "execution_count": 49,
     "metadata": {},
     "output_type": "execute_result"
    }
   ],
   "source": [
    "json_function_description"
   ]
  },
  {
   "cell_type": "code",
   "execution_count": 50,
   "metadata": {},
   "outputs": [
    {
     "data": {
      "text/plain": [
       "{'type': 'function',\n",
       " 'function': {'name': 'sunwukong_function',\n",
       "  'description': '用于执行孙悟空算法函数，定义了一种特殊的数据集计算过程',\n",
       "  'parameters': {'type': 'object',\n",
       "   'properties': {'data': {'type': 'string', 'description': '执行孙悟空算法的数据集'}},\n",
       "   'required': ['data']}}}"
      ]
     },
     "execution_count": 50,
     "metadata": {},
     "output_type": "execute_result"
    }
   ],
   "source": [
    "sunwukong"
   ]
  },
  {
   "cell_type": "code",
   "execution_count": 51,
   "metadata": {},
   "outputs": [
    {
     "data": {
      "text/plain": [
       "{'type': 'function',\n",
       " 'function': {'name': 'sunwukong_function',\n",
       "  'description': '该函数定义了数据集计算过程，接受一个字符串表示的数据表作为输入，并返回计算后的结果，结果为JSON格式的Dataframe类型对象。',\n",
       "  'parameters': {'type': 'object',\n",
       "   'properties': {'data': {'type': 'string',\n",
       "     'description': '必要参数，表示带入计算的数据表，用字符串进行表示'}},\n",
       "   'required': ['data']}}}"
      ]
     },
     "execution_count": 51,
     "metadata": {},
     "output_type": "execute_result"
    }
   ],
   "source": [
    "json_str={\"type\": \"function\",\"function\":json_function_description}\n",
    "json_str"
   ]
  },
  {
   "cell_type": "code",
   "execution_count": 52,
   "metadata": {},
   "outputs": [
    {
     "data": {
      "text/plain": [
       "{'type': 'function',\n",
       " 'function': {'name': 'sunwukong_function',\n",
       "  'description': '用于执行孙悟空算法函数，定义了一种特殊的数据集计算过程',\n",
       "  'parameters': {'type': 'object',\n",
       "   'properties': {'data': {'type': 'string', 'description': '执行孙悟空算法的数据集'}},\n",
       "   'required': ['data']}}}"
      ]
     },
     "execution_count": 52,
     "metadata": {},
     "output_type": "execute_result"
    }
   ],
   "source": [
    "sunwukong"
   ]
  },
  {
   "cell_type": "markdown",
   "metadata": {},
   "source": [
    "### 定义自动输出function 参数的函数"
   ]
  },
  {
   "cell_type": "code",
   "execution_count": 53,
   "metadata": {},
   "outputs": [],
   "source": [
    "def auto_functions(functions_list):\n",
    "    \"\"\"\n",
    "    Chat模型的functions参数编写函数\n",
    "    :param functions_list: 包含一个或者多个函数对象的列表；\n",
    "    :return：满足Chat模型functions参数要求的functions对象\n",
    "    \"\"\"\n",
    "    def functions_generate(functions_list):\n",
    "        # 创建空列表，用于保存每个函数的描述字典\n",
    "        functions = []\n",
    "        # 对每个外部函数进行循环\n",
    "        for function in functions_list:\n",
    "            # 读取函数对象的函数说明\n",
    "            function_description = inspect.getdoc(function)\n",
    "            # 读取函数的函数名字符串\n",
    "            function_name = function.__name__\n",
    "\n",
    "            system_prompt = '以下是某的函数说明：%s' % function_description\n",
    "            user_prompt = '根据这个函数的函数说明，请帮我创建一个JSON格式的字典，这个字典有如下5点要求：\\\n",
    "                           1.字典总共有三个键值对；\\\n",
    "                           2.第一个键值对的Key是字符串name，value是该函数的名字：%s，也是字符串；\\\n",
    "                           3.第二个键值对的Key是字符串description，value是该函数的函数的功能说明，也是字符串；\\\n",
    "                           4.第三个键值对的Key是字符串parameters，value是一个JSON Schema对象，用于说明该函数的参数输入规范。\\\n",
    "                           5.输出结果必须是一个JSON格式的字典，只输出这个字典即可，前后不需要任何前后修饰或说明的语句' % function_name\n",
    "\n",
    "            response = client.chat.completions.create(\n",
    "                              model=\"deepseek-chat\",\n",
    "                              messages=[\n",
    "                                {\"role\": \"system\", \"content\": system_prompt},\n",
    "                                {\"role\": \"user\", \"content\": user_prompt}\n",
    "                              ]\n",
    "                            )\n",
    "            json_function_description=json.loads(response.choices[0].message.content.replace(\"```\",\"\").replace(\"json\",\"\"))\n",
    "            json_str={\"type\": \"function\",\"function\":json_function_description}\n",
    "            functions.append(json_str)\n",
    "        return functions\n",
    "    ## 最大可以尝试4次\n",
    "    max_attempts = 4\n",
    "    attempts = 0\n",
    "\n",
    "    while attempts < max_attempts:\n",
    "        try:\n",
    "            functions = functions_generate(functions_list)\n",
    "            break  # 如果代码成功执行，跳出循环\n",
    "        except Exception as e:\n",
    "            attempts += 1  # 增加尝试次数\n",
    "            print(\"发生错误：\", e)\n",
    "            if attempts == max_attempts:\n",
    "                print(\"已达到最大尝试次数，程序终止。\")\n",
    "                raise  # 重新引发最后一个异常\n",
    "            else:\n",
    "                print(\"正在重新运行...\")\n",
    "    return functions"
   ]
  },
  {
   "cell_type": "code",
   "execution_count": 54,
   "metadata": {},
   "outputs": [],
   "source": [
    "functions_list = [sunwukong_function]\n",
    "tools = auto_functions(functions_list)"
   ]
  },
  {
   "cell_type": "code",
   "execution_count": 55,
   "metadata": {},
   "outputs": [
    {
     "data": {
      "text/plain": [
       "[{'type': 'function',\n",
       "  'function': {'name': 'sunwukong_function',\n",
       "   'description': '该函数定义了数据集计算过程，接受一个字符串表示的数据表作为输入，并返回计算后的结果，结果为JSON格式的Dataframe类型对象。',\n",
       "   'parameters': {'type': 'object',\n",
       "    'properties': {'data': {'type': 'string',\n",
       "      'description': '必要参数，表示带入计算的数据表，用字符串进行表示'}},\n",
       "    'required': ['data']}}}]"
      ]
     },
     "execution_count": 55,
     "metadata": {},
     "output_type": "execute_result"
    }
   ],
   "source": [
    "tools"
   ]
  },
  {
   "cell_type": "code",
   "execution_count": 56,
   "metadata": {},
   "outputs": [
    {
     "data": {
      "text/plain": [
       "'   x1  x2\\n0   1   3\\n1   2   4'"
      ]
     },
     "execution_count": 56,
     "metadata": {},
     "output_type": "execute_result"
    }
   ],
   "source": [
    "df_str = pd.DataFrame({'x1':[1, 2], 'x2':[3, 4]}).to_string()\n",
    "df_str"
   ]
  },
  {
   "cell_type": "code",
   "execution_count": 57,
   "metadata": {},
   "outputs": [],
   "source": [
    "messages=[\n",
    "    {\"role\": \"system\", \"content\": \"数据集data：%s，调用孙悟空算法进行计算，数据集以字符串形式呈现\" % df_str},\n",
    "    {\"role\": \"user\", \"content\": \"请在数据集data上执行孙悟空算法\"}\n",
    "]"
   ]
  },
  {
   "cell_type": "code",
   "execution_count": 58,
   "metadata": {},
   "outputs": [
    {
     "data": {
      "text/plain": [
       "ChatCompletionMessage(content='', refusal=None, role='assistant', audio=None, function_call=None, tool_calls=[ChatCompletionMessageToolCall(id='call_0_f86d1162-cda0-4d32-ac11-7e5fe26aa998', function=Function(arguments='{\"data\":\"   x1  x2\\\\n0   1   3\\\\n1   2   4\"}', name='sunwukong_function'), type='function', index=0)])"
      ]
     },
     "execution_count": 58,
     "metadata": {},
     "output_type": "execute_result"
    }
   ],
   "source": [
    "response = client.chat.completions.create(\n",
    "        model=\"deepseek-chat\",\n",
    "        messages=messages,\n",
    "        tools=tools,\n",
    "        tool_choice=\"auto\",  \n",
    "    )\n",
    "response.choices[0].message"
   ]
  },
  {
   "cell_type": "code",
   "execution_count": 59,
   "metadata": {},
   "outputs": [
    {
     "name": "stderr",
     "output_type": "stream",
     "text": [
      "<>:8: SyntaxWarning: invalid escape sequence '\\s'\n",
      "<>:8: SyntaxWarning: invalid escape sequence '\\s'\n",
      "/tmp/ipykernel_6653/4044990392.py:8: SyntaxWarning: invalid escape sequence '\\s'\n",
      "  df_new = pd.read_csv(data, sep='\\s+', index_col=0)\n"
     ]
    }
   ],
   "source": [
    "def tangseng_function(data):\n",
    "    \"\"\"\n",
    "    唐僧算法函数，该函数定义了数据集计算过程\n",
    "    :param data: 必要参数，表示带入计算的数据表，用字符串进行表示\n",
    "    :return：tangseng_function函数计算后的结果，返回结果为表示为JSON格式的Dataframe类型对象\n",
    "    \"\"\"\n",
    "    data = io.StringIO(data)\n",
    "    df_new = pd.read_csv(data, sep='\\s+', index_col=0)\n",
    "    res = df_new * 1000000\n",
    "    return json.dumps(res.to_string())"
   ]
  },
  {
   "cell_type": "code",
   "execution_count": 60,
   "metadata": {},
   "outputs": [],
   "source": [
    "functions_list=[sunwukong_function,tangseng_function]"
   ]
  },
  {
   "cell_type": "code",
   "execution_count": 61,
   "metadata": {},
   "outputs": [
    {
     "data": {
      "text/plain": [
       "[{'type': 'function',\n",
       "  'function': {'name': 'sunwukong_function',\n",
       "   'description': '该函数定义了数据集计算过程，返回结果为表示为JSON格式的Dataframe类型对象。',\n",
       "   'parameters': {'type': 'object',\n",
       "    'properties': {'data': {'type': 'string',\n",
       "      'description': '必要参数，表示带入计算的数据表，用字符串进行表示'}},\n",
       "    'required': ['data']}}},\n",
       " {'type': 'function',\n",
       "  'function': {'name': 'tangseng_function',\n",
       "   'description': '该函数定义了数据集计算过程，接受一个字符串表示的数据表作为输入，并返回计算后的结果，结果为JSON格式的Dataframe类型对象。',\n",
       "   'parameters': {'type': 'object',\n",
       "    'properties': {'data': {'type': 'string',\n",
       "      'description': '必要参数，表示带入计算的数据表，用字符串进行表示'}},\n",
       "    'required': ['data']}}}]"
      ]
     },
     "execution_count": 61,
     "metadata": {},
     "output_type": "execute_result"
    }
   ],
   "source": [
    "tools = auto_functions(functions_list)\n",
    "tools"
   ]
  },
  {
   "cell_type": "code",
   "execution_count": 62,
   "metadata": {},
   "outputs": [
    {
     "data": {
      "text/plain": [
       "ChatCompletionMessage(content='', refusal=None, role='assistant', audio=None, function_call=None, tool_calls=[ChatCompletionMessageToolCall(id='call_0_9f1792d5-7b7a-4d49-b61c-917c3ce57353', function=Function(arguments='{\"data\":\"   x1  x2\\\\n0   1   3\\\\n1   2   4\"}', name='tangseng_function'), type='function', index=0)])"
      ]
     },
     "execution_count": 62,
     "metadata": {},
     "output_type": "execute_result"
    }
   ],
   "source": [
    "messages=[\n",
    "    {\"role\": \"system\", \"content\": \"数据集data：%s，调用唐僧算法进行计算，数据集以字符串形式呈现\" % df_str},\n",
    "    {\"role\": \"user\", \"content\": \"请在数据集data上执行唐僧算法函数\"}\n",
    "]\n",
    "response = client.chat.completions.create(\n",
    "        model=\"deepseek-chat\",\n",
    "        messages=messages,\n",
    "        tools=tools,\n",
    "        tool_choice=\"auto\", \n",
    "    )\n",
    "response.choices[0].message\n"
   ]
  },
  {
   "cell_type": "markdown",
   "metadata": {},
   "source": [
    "# 3. 封装调用2轮response的函数"
   ]
  },
  {
   "cell_type": "code",
   "execution_count": 63,
   "metadata": {},
   "outputs": [
    {
     "data": {
      "text/plain": [
       "[<function __main__.sunwukong_function(data)>,\n",
       " <function __main__.tangseng_function(data)>]"
      ]
     },
     "execution_count": 63,
     "metadata": {},
     "output_type": "execute_result"
    }
   ],
   "source": [
    "functions_list"
   ]
  },
  {
   "cell_type": "code",
   "execution_count": 64,
   "metadata": {},
   "outputs": [],
   "source": [
    "def run_conversation(messages, functions_list=None, model=\"deepseek-chat\"):\n",
    "    \"\"\"\n",
    "    能够自动执行外部函数调用的对话模型\n",
    "    :param messages: 必要参数，字典类型，输入到Chat模型的messages参数对象\n",
    "    :param functions_list: 可选参数，默认为None，可以设置为包含全部外部函数的列表对象\n",
    "    :param model: Chat模型，可选参数，默认模型为deepseek-chat\n",
    "    :return：Chat模型输出结果\n",
    "    \"\"\"\n",
    "    # 如果没有外部函数库，则执行普通的对话任务\n",
    "    if functions_list == None:\n",
    "        response = client.chat.completions.create(\n",
    "                        model=model,\n",
    "                        messages=messages,\n",
    "                        )\n",
    "        response_message = response.choices[0].message\n",
    "        final_response = response_message.content\n",
    "        \n",
    "    # 若存在外部函数库，则需要灵活选取外部函数并进行回答\n",
    "    else:\n",
    "        # 创建functions对象\n",
    "        tools = auto_functions(functions_list)\n",
    "\n",
    "        # 创建外部函数库字典\n",
    "        available_functions = {func.__name__: func for func in functions_list}\n",
    "\n",
    "        # 第一次调用大模型\n",
    "        response = client.chat.completions.create(\n",
    "                        model=model,\n",
    "                        messages=messages,\n",
    "                        tools=tools,\n",
    "                        tool_choice=\"auto\", )\n",
    "        response_message = response.choices[0].message\n",
    "\n",
    "\n",
    "        tool_calls = response_message.tool_calls\n",
    "\n",
    "        if tool_calls:\n",
    "\n",
    "            messages.append(response_message) \n",
    "            for tool_call in tool_calls:\n",
    "                function_name = tool_call.function.name\n",
    "                function_to_call = available_functions[function_name]\n",
    "                function_args = json.loads(tool_call.function.arguments)\n",
    "                ## 真正执行外部函数的就是这儿的代码\n",
    "                function_response = function_to_call(**function_args)\n",
    "                messages.append(\n",
    "                    {\n",
    "                        \"tool_call_id\": tool_call.id,\n",
    "                        \"role\": \"tool\",\n",
    "                        \"name\": function_name,\n",
    "                        \"content\": function_response,\n",
    "                    }\n",
    "                ) \n",
    "            ## 第二次调用模型\n",
    "            second_response = client.chat.completions.create(\n",
    "                model=model,\n",
    "                messages=messages,\n",
    "            ) \n",
    "            # 获取最终结果\n",
    "            final_response = second_response.choices[0].message.content\n",
    "        else:\n",
    "            final_response = response_message.content\n",
    "                \n",
    "    return final_response"
   ]
  },
  {
   "cell_type": "code",
   "execution_count": 65,
   "metadata": {},
   "outputs": [
    {
     "data": {
      "text/plain": [
       "'   x1  x2\\n0   1   3\\n1   2   4'"
      ]
     },
     "execution_count": 65,
     "metadata": {},
     "output_type": "execute_result"
    }
   ],
   "source": [
    "df_str = pd.DataFrame({'x1':[1, 2], 'x2':[3, 4]}).to_string()\n",
    "df_str"
   ]
  },
  {
   "cell_type": "code",
   "execution_count": 66,
   "metadata": {},
   "outputs": [],
   "source": [
    "## 测试一下函数（1）\n",
    "messages = [\n",
    "        {\"role\": \"system\", \"content\": \"数据集data：%s，用唐僧算法计算，数据集以字符串形式呈现\" % df_str},\n",
    "        {\"role\": \"user\", \"content\": '请在data上执行唐僧算法函数'}]\n"
   ]
  },
  {
   "cell_type": "code",
   "execution_count": 67,
   "metadata": {},
   "outputs": [
    {
     "data": {
      "text/plain": [
       "'看起来你希望将数据集中的每个数值乘以1000000。以下是执行唐僧算法的Python代码：\\n\\n```python\\nimport pandas as pd\\n\\n# 定义唐僧算法函数\\ndef tangseng_algorithm(data):\\n    # 将数据转换为DataFrame\\n    df = pd.read_csv(pd.compat.StringIO(data), sep=\\'\\\\s+\\')\\n    \\n    # 将每个数值乘以1000000\\n    df = df * 1000000\\n    \\n    return df\\n\\n# 数据集\\ndata = \"\"\"   x1  x2\\n0   1   3\\n1   2   4\"\"\"\\n\\n# 执行唐僧算法\\nresult = tangseng_algorithm(data)\\nprint(result)\\n```\\n\\n运行结果将会是：\\n\\n```\\n        x1       x2\\n0  1000000  3000000\\n1  2000000  4000000\\n```\\n\\n这个代码将数据集中的每个数值乘以1000000，并返回结果。'"
      ]
     },
     "execution_count": 67,
     "metadata": {},
     "output_type": "execute_result"
    }
   ],
   "source": [
    "run_conversation(messages = messages, functions_list = functions_list)"
   ]
  },
  {
   "cell_type": "code",
   "execution_count": 68,
   "metadata": {},
   "outputs": [],
   "source": [
    "## 测试一下函数（2）\n",
    "\n",
    "messages = [\n",
    "        {\"role\": \"system\", \"content\": \"数据集data：%s，用孙悟空算法计算，数据集以字符串形式呈现\" % df_str},\n",
    "        {\"role\": \"user\", \"content\": '请在data上执行孙悟空算法函数'}]"
   ]
  },
  {
   "cell_type": "code",
   "execution_count": 69,
   "metadata": {},
   "outputs": [],
   "source": [
    "result2=run_conversation(messages = messages, functions_list = functions_list)"
   ]
  },
  {
   "cell_type": "code",
   "execution_count": 70,
   "metadata": {},
   "outputs": [
    {
     "name": "stdout",
     "output_type": "stream",
     "text": [
      "孙悟空算法函数已经成功在数据集上执行。以下是处理后的结果：\n",
      "\n",
      "```\n",
      "   x1  x2\n",
      "0  10  30\n",
      "1  20  40\n",
      "```\n",
      "\n",
      "这个结果表示每个元素都被乘以了10。如果你有其他需求或进一步的修改，请告诉我！\n"
     ]
    }
   ],
   "source": [
    "print(result2)"
   ]
  },
  {
   "cell_type": "markdown",
   "metadata": {},
   "source": [
    "'已在数据集上成功执行了孙悟空算法函数，修改后的数据集为：\\n\\n```\\n   x1  x2\\n0  10  30\\n1  20  40\\n```'"
   ]
  },
  {
   "cell_type": "code",
   "execution_count": 71,
   "metadata": {},
   "outputs": [],
   "source": [
    "## 测试一下函数（3）\n",
    "messages = [\n",
    "        {\"role\": \"system\", \"content\": \"数据集data：%s，数据集以字符串形式呈现\" % df_str},\n",
    "        {\"role\": \"user\", \"content\": '请解释一下data数据集'}]"
   ]
  },
  {
   "cell_type": "code",
   "execution_count": 72,
   "metadata": {},
   "outputs": [
    {
     "data": {
      "text/plain": [
       "'使用 `sunwukong_function` 处理后的数据集如下：\\n\\n```\\n   x1  x2\\n0  10  30\\n1  20  40\\n```\\n\\n- 第一列 `x1` 的值被乘以 10，变为 10 和 20。\\n- 第二列 `x2` 的值被乘以 10，变为 30 和 40。\\n\\n这个函数的作用是将数据集中的每个值都乘以 10。'"
      ]
     },
     "execution_count": 72,
     "metadata": {},
     "output_type": "execute_result"
    }
   ],
   "source": [
    "run_conversation(messages = messages, functions_list = functions_list)"
   ]
  }
 ],
 "metadata": {
  "kernelspec": {
   "display_name": "Python 3 (ipykernel)",
   "language": "python",
   "name": "python3"
  },
  "language_info": {
   "codemirror_mode": {
    "name": "ipython",
    "version": 3
   },
   "file_extension": ".py",
   "mimetype": "text/x-python",
   "name": "python",
   "nbconvert_exporter": "python",
   "pygments_lexer": "ipython3",
   "version": "3.12.3"
  }
 },
 "nbformat": 4,
 "nbformat_minor": 4
}
