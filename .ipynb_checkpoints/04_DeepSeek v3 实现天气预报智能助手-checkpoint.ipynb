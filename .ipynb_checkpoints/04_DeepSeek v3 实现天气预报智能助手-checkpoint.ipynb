{
 "cells": [
  {
   "cell_type": "markdown",
   "id": "26be70b2-15b7-45bc-806b-7ebaf3f69fba",
   "metadata": {},
   "source": [
    "## <center> DeepSeek v3实现天气预报智能助手"
   ]
  },
  {
   "cell_type": "code",
   "execution_count": 14,
   "id": "60abbc03-1a3f-47c7-8ac6-653282e9a305",
   "metadata": {},
   "outputs": [],
   "source": [
    "import os\n",
    "from openai import OpenAI\n",
    "from IPython.display import display, Code, Markdown\n",
    "import requests\n",
    "import json"
   ]
  },
  {
   "cell_type": "code",
   "execution_count": 15,
   "id": "d33faf64-69aa-4535-8a26-1431f1655021",
   "metadata": {},
   "outputs": [],
   "source": [
    "ds_api_key = 'sk-6fd33eaba5b54e3a9d6f7ff76b2565aa'"
   ]
  },
  {
   "cell_type": "code",
   "execution_count": 16,
   "id": "226e2245-1549-4dfa-bd50-ea0cfec0d082",
   "metadata": {},
   "outputs": [],
   "source": [
    "# 实例化客户端\n",
    "client = OpenAI(api_key=ds_api_key, \n",
    "                base_url=\"https://api.deepseek.com\")"
   ]
  },
  {
   "cell_type": "code",
   "execution_count": 17,
   "id": "8c53c83c-e676-4c8a-a37b-64f181a678e1",
   "metadata": {},
   "outputs": [],
   "source": [
    "# 调用 deepseek-v3 模型\n",
    "response = client.chat.completions.create(\n",
    "    model=\"deepseek-chat\",\n",
    "    messages=[\n",
    "        {\"role\": \"user\", \"content\": \"你好，好久不见!\"}\n",
    "    ]\n",
    ")"
   ]
  },
  {
   "cell_type": "code",
   "execution_count": 18,
   "id": "7e66fbfd-5410-4932-a3ac-7653230ee421",
   "metadata": {},
   "outputs": [
    {
     "name": "stdout",
     "output_type": "stream",
     "text": [
      "你好！好久不见，很高兴再次见到你！最近过得怎么样？有什么想聊的吗？\n"
     ]
    }
   ],
   "source": [
    "# 输出生成的响应内容\n",
    "print(response.choices[0].message.content)"
   ]
  },
  {
   "cell_type": "markdown",
   "id": "6b65e6af-5ea7-4348-bddf-0d18407cf532",
   "metadata": {},
   "source": [
    "### 1.OpenWeather注册及API key获取方法"
   ]
  },
  {
   "cell_type": "markdown",
   "id": "53188dc7-64ca-4738-9c24-120f2afa44fe",
   "metadata": {},
   "source": [
    "&emsp;&emsp;为了能够调用OpenWeather服务，和OpenAI的API使用过程类似，我们首先需要先注册OpenWeather账号，并获取OpenWeather API Key。这里需要注意的是，对于大多数在线服务的API来说，都需要通过API key来进行身份验证，尽管OpenWeather相对更加Open，有非常多的免费使用的次数，但身份验证仍然是必要的防止API被滥用的有效手段。OpenWeather API key获取流程如下："
   ]
  },
  {
   "cell_type": "markdown",
   "id": "5922e9f1-0d8a-4f51-a351-aa8e789c102e",
   "metadata": {},
   "source": [
    "- Step 1.登录OpenWeather官网并点击Sign—>create account完成注册。该网站无需魔法即可直接登录，可以使用国内邮箱或者QQ邮箱均可进行注册，官网地址为：https://openweathermap.org/"
   ]
  },
  {
   "cell_type": "markdown",
   "id": "094d90b1-330d-4559-a971-84fc011d9617",
   "metadata": {},
   "source": [
    "<center><img src=\"./pic/10.png\" alt=\"e9a6286c483ccf21ab96af1972a918b\" style=\"zoom:33%;\" />"
   ]
  },
  {
   "cell_type": "markdown",
   "id": "94dd16fe-62f6-4d4f-81d2-acae93c53737",
   "metadata": {},
   "source": [
    "- Step 2.获取API-key：注册完成后，即可在API keys页面查看当前账户的API key："
   ]
  },
  {
   "cell_type": "markdown",
   "id": "69287e05-f11d-44e7-be2b-9e3c3d5343ec",
   "metadata": {},
   "source": [
    "<center><img src=\"./pic/11.png\" alt=\"f44ba05a810500a61516caa28a4fcb4\" style=\"zoom:33%;\" />"
   ]
  },
  {
   "cell_type": "markdown",
   "id": "a7ca3a2a-7c7c-461f-9baf-a14fedaf2f63",
   "metadata": {},
   "source": [
    "<center><img src=\"./pic/12.png\" alt=\"e497a7ebb4f8d50ff3b6e362e4b569a\" style=\"zoom:33%;\" />"
   ]
  },
  {
   "cell_type": "markdown",
   "id": "4c454e67-11ed-4d42-a209-ddbe449fb9df",
   "metadata": {},
   "source": [
    "一般来说完成注册后，就会有一个已经激活的API-key。和DeepSeeek一样，OpenWeather的API key也创建多个。"
   ]
  },
  {
   "cell_type": "markdown",
   "id": "150535d4-9236-4cd0-8399-1cf472afe8e6",
   "metadata": {},
   "source": [
    "#### 2.2 利用OpenWeather API获取实时天气信息"
   ]
  },
  {
   "cell_type": "markdown",
   "id": "bce81bce-0029-41fe-8f2f-3fd317c47ba0",
   "metadata": {},
   "source": [
    "&emsp;&emsp;接下来我们通过一个简单的示例，来介绍如何通过OpenWeather API获取实时天气信息："
   ]
  },
  {
   "cell_type": "code",
   "execution_count": 19,
   "id": "179b39b3-7d59-4e07-85bb-471083d60c3d",
   "metadata": {},
   "outputs": [],
   "source": [
    "open_weather_key = \"5c939a7cc59eb8696f4cd77bf75c5a9a\""
   ]
  },
  {
   "cell_type": "code",
   "execution_count": 20,
   "id": "e8062c93-9fef-4f3d-9a54-f68cf1a2d271",
   "metadata": {
    "tags": []
   },
   "outputs": [],
   "source": [
    "import requests\n",
    "\n",
    "# Step 1.构建请求\n",
    "url = \"https://api.openweathermap.org/data/2.5/weather\"\n",
    "\n",
    "# Step 2.设置查询参数\n",
    "params = {\n",
    "    \"q\": \"Beijing\",               # 查询北京实时天气\n",
    "    \"appid\": open_weather_key,    # 输入API key\n",
    "    \"units\": \"metric\",            # 使用摄氏度而不是华氏度\n",
    "    \"lang\":\"zh_cn\"                # 输出语言为简体中文\n",
    "}\n",
    "\n",
    "# Step 3.发送GET请求\n",
    "response = requests.get(url, params=params)\n",
    "\n",
    "# Step 4.解析响应\n",
    "data = response.json()"
   ]
  },
  {
   "cell_type": "markdown",
   "id": "5c80f575-8888-4e93-bd94-fd7a68075d97",
   "metadata": {},
   "source": [
    "这里需要注意的是，城市名必须输入英文名，否则无法正确识别。接下来查看返回结果。首先我们先查看response结果："
   ]
  },
  {
   "cell_type": "code",
   "execution_count": 21,
   "id": "7162cea8-2d2f-4390-b0ff-d4ebb51fa79f",
   "metadata": {
    "tags": []
   },
   "outputs": [
    {
     "data": {
      "text/plain": [
       "<Response [200]>"
      ]
     },
     "execution_count": 21,
     "metadata": {},
     "output_type": "execute_result"
    }
   ],
   "source": [
    "response"
   ]
  },
  {
   "cell_type": "code",
   "execution_count": 53,
   "id": "f7611a00-7b1c-4b2a-96ab-b22245e2e5e4",
   "metadata": {
    "tags": []
   },
   "outputs": [
    {
     "data": {
      "text/plain": [
       "requests.models.Response"
      ]
     },
     "execution_count": 53,
     "metadata": {},
     "output_type": "execute_result"
    }
   ],
   "source": [
    "type(response)"
   ]
  },
  {
   "cell_type": "markdown",
   "id": "44c49749-f4d7-41cc-8b1a-97a964b5316b",
   "metadata": {},
   "source": [
    "在未解析之前，我们只能查看到基本请求结果状态，这里的200代表成功相应，即本次发送请求获得了对应的响应，且响应内容包含在response中。考虑到默认情况下返回结果是JSON格式，因此后续代码使用了response.json()对其进行解析。解析内容如下："
   ]
  },
  {
   "cell_type": "code",
   "execution_count": 22,
   "id": "cacda9f9-c75e-4af3-a388-f93f8bb4ad41",
   "metadata": {
    "tags": []
   },
   "outputs": [
    {
     "data": {
      "text/plain": [
       "{'coord': {'lon': 116.3972, 'lat': 39.9075},\n",
       " 'weather': [{'id': 803,\n",
       "   'main': 'Clouds',\n",
       "   'description': '多云',\n",
       "   'icon': '04d'}],\n",
       " 'base': 'stations',\n",
       " 'main': {'temp': 8.57,\n",
       "  'feels_like': 6.71,\n",
       "  'temp_min': 8.57,\n",
       "  'temp_max': 8.57,\n",
       "  'pressure': 1021,\n",
       "  'humidity': 22,\n",
       "  'sea_level': 1021,\n",
       "  'grnd_level': 1016},\n",
       " 'visibility': 10000,\n",
       " 'wind': {'speed': 3.14, 'deg': 188, 'gust': 4.25},\n",
       " 'clouds': {'all': 79},\n",
       " 'dt': 1741081158,\n",
       " 'sys': {'country': 'CN', 'sunrise': 1741041829, 'sunset': 1741082932},\n",
       " 'timezone': 28800,\n",
       " 'id': 1816670,\n",
       " 'name': 'Beijing',\n",
       " 'cod': 200}"
      ]
     },
     "execution_count": 22,
     "metadata": {},
     "output_type": "execute_result"
    }
   ],
   "source": [
    "data"
   ]
  },
  {
   "cell_type": "code",
   "execution_count": 23,
   "id": "c84d8f6b-604b-4bee-a6bf-04115e4da1b5",
   "metadata": {
    "tags": []
   },
   "outputs": [],
   "source": [
    "def get_weather(loc):\n",
    "    \"\"\"\n",
    "    查询即时天气函数\n",
    "    :param loc: 必要参数，字符串类型，用于表示查询天气的具体城市名称，\\\n",
    "    注意，中国的城市需要用对应城市的英文名称代替，例如如果需要查询北京市天气，则loc参数需要输入'Beijing'；\n",
    "    :return：OpenWeather API查询即时天气的结果，具体URL请求地址为：https://api.openweathermap.org/data/2.5/weather\\\n",
    "    返回结果对象类型为解析之后的JSON格式对象，并用字符串形式进行表示，其中包含了全部重要的天气信息\n",
    "    \"\"\"\n",
    "    # Step 1.构建请求\n",
    "    url = \"https://api.openweathermap.org/data/2.5/weather\"\n",
    "\n",
    "    # Step 2.设置查询参数\n",
    "    params = {\n",
    "        \"q\": loc,               \n",
    "        \"appid\": open_weather_key,    # 输入API key\n",
    "        \"units\": \"metric\",            # 使用摄氏度而不是华氏度\n",
    "        \"lang\":\"zh_cn\"                # 输出语言为简体中文\n",
    "    }\n",
    "\n",
    "    # Step 3.发送GET请求\n",
    "    response = requests.get(url, params=params)\n",
    "    \n",
    "    # Step 4.解析响应\n",
    "    data = response.json()\n",
    "    return json.dumps(data)"
   ]
  },
  {
   "cell_type": "markdown",
   "id": "28022adc-e355-4b55-8717-f99af75e03f0",
   "metadata": {},
   "source": [
    "### 1.functions参数解释与定义过程"
   ]
  },
  {
   "cell_type": "markdown",
   "id": "1fbef09d-c26e-491d-bf94-b39af2422428",
   "metadata": {},
   "source": [
    "&emsp;&emsp;在准备好外部函数及函数库之后，接下来非常重要的一步就是需要将外部函数的信息以某种形式传输给Chat模型。此时就需要使用到ChatCompletion.create函数的functions参数，类似于messages参数是用于向模型传输消息，functions参数专门用于向模型传递当前可以调用的外部函数信息。并且，从参数的具体形式来看，functions参数和messages参数也是非常类似的——都是包含多个字典的list。对于messages来说，每个字典都是一条信息，而对于functions参数来说，每个字典都是一个函数。在大语言模型实际进行问答时，会根据functions参数提供的信息对各函数进行检索。"
   ]
  },
  {
   "cell_type": "markdown",
   "id": "e95d891b-89b9-47b5-9cc4-69e309abae0e",
   "metadata": {},
   "source": [
    "&emsp;&emsp;很明显，functions参数对于Chat模型的Function calling功能的实现至关重要。接下来我们详细解释functions中每个用于描述函数的字典编写方法。总的来说，每个字典都有三个参数（三组键值对），各参数（Key）名称及解释如下："
   ]
  },
  {
   "cell_type": "markdown",
   "id": "afed6e07-6753-4c1d-b198-8526126e4c4f",
   "metadata": {},
   "source": [
    "- name：代表函数函数名称字的符串，必选参数，按照要求函数名称必须是 a-z、A-Z、0-9，或包含下划线和破折号，最大长度为 64。需要注意的是，name必须输入函数名称，而后续模型将根据函数名称在外部函数库中进行函数筛选；\n",
    "- description：用于描述函数功能的字符串，虽然是可选参数，但该参数传递的信息实际上是Chat模型对函数功能识别的核心依据。即Chat函数实际上是通过每个函数的description来判断当前函数的实际功能的，若要实现多个备选函数的智能挑选，则需要严谨详细的描述函数功能；（需要注意的是，在某些情况下，我们会通过其他函数标注本次对话特指的函数，此时模型就不会执行这个根据描述信息进行函数挑选的过程，此时是可以不设置description的。）\n",
    "- parameters：函数参数，必选参数，要求遵照JSON Schema格式进行输入，JSON Schema是一种特殊的JSON对象，专门用于验证JSON数据格式是否满足要求。"
   ]
  },
  {
   "cell_type": "markdown",
   "id": "80f26d85-1b21-4ceb-ac37-9ebd4cb49f79",
   "metadata": {},
   "source": [
    "&emsp;&emsp;例如，对于get_weather函数，我们需要创建如下字典来对其进行完整描述："
   ]
  },
  {
   "cell_type": "code",
   "execution_count": 37,
   "id": "59da8c07-def8-46b9-a6a3-db0bd791985a",
   "metadata": {
    "tags": []
   },
   "outputs": [],
   "source": [
    "get_weather_function = {\n",
    "    \"type\": \"function\",\n",
    "    \"function\":{'name': 'get_weather',\n",
    "        'description': '查询即时天气函数，根据输入的城市名称，查询对应城市的实时天气',\n",
    "        'parameters': {\n",
    "        'type': 'object',\n",
    "        'properties': {\n",
    "            'loc': {\n",
    "                'description': \"城市名称，注意，中国的城市需要用对应城市的英文名称代替，例如如果需要查询北京市天气，则loc参数需要输入'Beijing'\",\n",
    "                'type': 'string'\n",
    "            }\n",
    "        },\n",
    "        'required': ['loc']\n",
    "    }\n",
    "               }\n",
    "}"
   ]
  },
  {
   "cell_type": "markdown",
   "id": "2c80f7ab-f028-4d8b-9687-ae063fc5ac26",
   "metadata": {},
   "source": [
    "同时还需要封装外部函数库，用于关联外部函数名称和外部函数对象"
   ]
  },
  {
   "cell_type": "code",
   "execution_count": 38,
   "id": "12560861-a021-4d14-8cdd-2e7de29429c0",
   "metadata": {
    "tags": []
   },
   "outputs": [],
   "source": [
    "available_functions = {\n",
    "            \"get_weather\": get_weather,\n",
    "        }"
   ]
  },
  {
   "cell_type": "markdown",
   "id": "09cb684b-eeea-45bf-b52d-dfc519a6ff72",
   "metadata": {},
   "source": [
    "### 2.Function calling功能实现"
   ]
  },
  {
   "cell_type": "markdown",
   "id": "7b4014a9-70c5-408e-90b1-147ee71db7c2",
   "metadata": {},
   "source": [
    "#### 2.1 First response"
   ]
  },
  {
   "cell_type": "markdown",
   "id": "e004e9a0-5718-486b-b04d-4c1c47148089",
   "metadata": {},
   "source": [
    "&emsp;&emsp;在进行了一系列基础准备工作之后，接下来我们尝试在Chat模型对话执行Function calling功能。这里我们创建如下messages："
   ]
  },
  {
   "cell_type": "code",
   "execution_count": 24,
   "id": "099049eb-bd18-4a61-b4be-3e65d3f9c6b5",
   "metadata": {
    "tags": []
   },
   "outputs": [],
   "source": [
    "# 实例化客户端\n",
    "client = OpenAI(api_key=ds_api_key, \n",
    "                base_url=\"https://api.deepseek.com\")"
   ]
  },
  {
   "cell_type": "code",
   "execution_count": 25,
   "id": "8f40b31b-c0d7-4fe8-be2a-a0568cdb924c",
   "metadata": {
    "tags": []
   },
   "outputs": [],
   "source": [
    "messages=[\n",
    "    {\"role\": \"user\", \"content\": \"请帮我查询北京地区今日天气情况\"}\n",
    "]"
   ]
  },
  {
   "cell_type": "markdown",
   "id": "65d31191-14c0-45b7-82e6-a88d6dc666b2",
   "metadata": {},
   "source": [
    "首先我们测试如果只输入这个信息而不输入外部函数库的时候，模型能否知道如何查询天气："
   ]
  },
  {
   "cell_type": "code",
   "execution_count": 26,
   "id": "6a9efdb7-cdc0-4a61-bd44-dc7c2fc9d561",
   "metadata": {
    "tags": []
   },
   "outputs": [],
   "source": [
    "response = client.chat.completions.create(\n",
    "        model=\"deepseek-chat\",\n",
    "        messages=messages \n",
    "    )"
   ]
  },
  {
   "cell_type": "code",
   "execution_count": 27,
   "id": "06022661-f049-4860-8475-ce92dd328ebd",
   "metadata": {
    "tags": []
   },
   "outputs": [
    {
     "data": {
      "text/plain": [
       "'您好，建议您联网获取时效性较强的信息；如果还有其他问题需要帮助，请随时告诉我！'"
      ]
     },
     "execution_count": 27,
     "metadata": {},
     "output_type": "execute_result"
    }
   ],
   "source": [
    "response.choices[0].message.content"
   ]
  },
  {
   "cell_type": "markdown",
   "id": "fcd6b94d-2ce3-4f8e-9873-1d34cad2d531",
   "metadata": {},
   "source": [
    "很明显，模型无法进行回答。"
   ]
  },
  {
   "cell_type": "markdown",
   "id": "9ae963bc-f047-4f0a-8062-f6141b1a1f76",
   "metadata": {},
   "source": [
    "&emsp;&emsp;接下来我们尝试将函数库相关信息输入给Chat模型，这里需要额外设置两个参数，其一是tools参数，用于申明外部函数库当前情况，其二则是需要设置tool_choice参数，该参数用于控制是否执行Function calling功能，该参数有两种不同的取值，默认取值为auto，表示表示模型将根据用户实际对话情况，有选择性的自动挑选合适函数进行执行，而若想让模型在本次对话中特定执行tools中的某个函数，则可以通过输入如下形式的字典：{\"name\": \"my_function\"}进行申明，此时模型不再会自动挑选模型，而是会在tools中挑选\"my_function\"进行执行。"
   ]
  },
  {
   "cell_type": "markdown",
   "id": "11c8e5cc-bde1-447c-924b-3dda235e5e94",
   "metadata": {},
   "source": [
    "&emsp;&emsp;这里我们尝试让模型自动挑选函数来进行执行，参数设置方法与执行过程如下："
   ]
  },
  {
   "cell_type": "code",
   "execution_count": 42,
   "id": "645f5c24-c8f4-4873-a366-ed04ce06c454",
   "metadata": {},
   "outputs": [],
   "source": [
    "tools=[get_weather_function]"
   ]
  },
  {
   "cell_type": "code",
   "execution_count": 43,
   "id": "b9f1717f-d5e9-4c3c-b125-7effdecdc0c4",
   "metadata": {
    "tags": []
   },
   "outputs": [],
   "source": [
    "response = client.chat.completions.create(\n",
    "    model=\"deepseek-chat\",  \n",
    "    messages=[\n",
    "        {\"role\": \"user\", \"content\": \"请帮我查询北京地区今日天气情况\"}\n",
    "    ],\n",
    "    tools=tools,\n",
    ")"
   ]
  },
  {
   "cell_type": "markdown",
   "id": "5ef70bde-df95-4bf4-878a-99ea525f9cc7",
   "metadata": {},
   "source": [
    "观察此时response结果："
   ]
  },
  {
   "cell_type": "code",
   "execution_count": 44,
   "id": "5987c3b0-a505-4e28-95b3-e1dac1373c58",
   "metadata": {
    "scrolled": true,
    "tags": []
   },
   "outputs": [
    {
     "data": {
      "text/plain": [
       "ChatCompletion(id='a67e1893-20d6-4f9b-9bc8-f1bd31c578b9', choices=[Choice(finish_reason='tool_calls', index=0, logprobs=None, message=ChatCompletionMessage(content='', refusal=None, role='assistant', audio=None, function_call=None, tool_calls=[ChatCompletionMessageToolCall(id='call_0_48e82fa9-e94a-449c-a9d4-58318c2e9dad', function=Function(arguments='{\"loc\":\"Beijing\"}', name='get_weather'), type='function', index=0)]))], created=1741081590, model='deepseek-chat', object='chat.completion', service_tier=None, system_fingerprint='fp_3a5770e1b4_prod0225', usage=CompletionUsage(completion_tokens=19, prompt_tokens=153, total_tokens=172, completion_tokens_details=None, prompt_tokens_details=PromptTokensDetails(audio_tokens=None, cached_tokens=128), prompt_cache_hit_tokens=128, prompt_cache_miss_tokens=25))"
      ]
     },
     "execution_count": 44,
     "metadata": {},
     "output_type": "execute_result"
    }
   ],
   "source": [
    "response"
   ]
  },
  {
   "cell_type": "code",
   "execution_count": 45,
   "id": "d9c5ecf0-2500-4577-b14b-c45379bb262d",
   "metadata": {
    "tags": []
   },
   "outputs": [
    {
     "data": {
      "text/plain": [
       "ChatCompletionMessage(content='', refusal=None, role='assistant', audio=None, function_call=None, tool_calls=[ChatCompletionMessageToolCall(id='call_0_48e82fa9-e94a-449c-a9d4-58318c2e9dad', function=Function(arguments='{\"loc\":\"Beijing\"}', name='get_weather'), type='function', index=0)])"
      ]
     },
     "execution_count": 45,
     "metadata": {},
     "output_type": "execute_result"
    }
   ],
   "source": [
    "response_message = response.choices[0].message\n",
    "response_message"
   ]
  },
  {
   "cell_type": "markdown",
   "id": "64baf7c1-248e-4aee-a132-3f0abb2641dd",
   "metadata": {},
   "source": [
    "能够发现，此时返回的message中content为空，而增了一个\"tool_calls\"的list，该list就包含了当前调用外部函数的全部信息："
   ]
  },
  {
   "cell_type": "code",
   "execution_count": 46,
   "id": "b63f12b9-8e23-4690-b80f-40be5ad96344",
   "metadata": {
    "tags": []
   },
   "outputs": [
    {
     "data": {
      "text/plain": [
       "[ChatCompletionMessageToolCall(id='call_0_48e82fa9-e94a-449c-a9d4-58318c2e9dad', function=Function(arguments='{\"loc\":\"Beijing\"}', name='get_weather'), type='function', index=0)]"
      ]
     },
     "execution_count": 46,
     "metadata": {},
     "output_type": "execute_result"
    }
   ],
   "source": [
    "response_message.tool_calls"
   ]
  },
  {
   "cell_type": "code",
   "execution_count": 47,
   "id": "b97f8f04-bf57-4ee6-bed7-48a023efcd83",
   "metadata": {
    "tags": []
   },
   "outputs": [
    {
     "data": {
      "text/plain": [
       "ChatCompletionMessageToolCall(id='call_0_48e82fa9-e94a-449c-a9d4-58318c2e9dad', function=Function(arguments='{\"loc\":\"Beijing\"}', name='get_weather'), type='function', index=0)"
      ]
     },
     "execution_count": 47,
     "metadata": {},
     "output_type": "execute_result"
    }
   ],
   "source": [
    "response_message.tool_calls[0]"
   ]
  },
  {
   "cell_type": "markdown",
   "id": "5f10865c-60ba-4a6a-ad16-fbfaa449e150",
   "metadata": {},
   "source": [
    "对于当前CompletionMessageToolCall对象，id为外部函数调用发起请求id，function则表示调用外部函数基本信息，而type则代表了当前当前调用外部函数类型，function代表调用自定义的外部函数。除此之外还可以选择retrieval或web_search，分别代表进行在线知识库的知识检索和进行在线搜索。"
   ]
  },
  {
   "cell_type": "code",
   "execution_count": 48,
   "id": "0cbd4191-815b-42dd-9974-dac87fe5fa4d",
   "metadata": {
    "tags": []
   },
   "outputs": [
    {
     "data": {
      "text/plain": [
       "'call_0_48e82fa9-e94a-449c-a9d4-58318c2e9dad'"
      ]
     },
     "execution_count": 48,
     "metadata": {},
     "output_type": "execute_result"
    }
   ],
   "source": [
    "response_message.tool_calls[0].id"
   ]
  },
  {
   "cell_type": "code",
   "execution_count": 49,
   "id": "d0c98c19-c3fc-4302-8444-b3bb0bef4443",
   "metadata": {
    "tags": []
   },
   "outputs": [
    {
     "data": {
      "text/plain": [
       "Function(arguments='{\"loc\":\"Beijing\"}', name='get_weather')"
      ]
     },
     "execution_count": 49,
     "metadata": {},
     "output_type": "execute_result"
    }
   ],
   "source": [
    "response_message.tool_calls[0].function"
   ]
  },
  {
   "cell_type": "markdown",
   "id": "af8747f7-02e5-4c9c-ae78-0bb3676d5fde",
   "metadata": {},
   "source": [
    "我们可以在此基础上分别提取调用外部函数名称信息和参数信息，分别保存为function_name和function_args对象："
   ]
  },
  {
   "cell_type": "code",
   "execution_count": 50,
   "id": "ee12aa57-43e9-4997-b7c7-e4ac5e306d3e",
   "metadata": {
    "tags": []
   },
   "outputs": [
    {
     "data": {
      "text/plain": [
       "'get_weather'"
      ]
     },
     "execution_count": 50,
     "metadata": {},
     "output_type": "execute_result"
    }
   ],
   "source": [
    "# 完成对话需要调用的函数名称\n",
    "function_name = response_message.tool_calls[0].function.name\n",
    "function_name"
   ]
  },
  {
   "cell_type": "code",
   "execution_count": 51,
   "id": "5f656a00-334c-4ce5-b229-7bb49b2657dc",
   "metadata": {
    "tags": []
   },
   "outputs": [
    {
     "data": {
      "text/plain": [
       "<function __main__.get_weather(loc)>"
      ]
     },
     "execution_count": 51,
     "metadata": {},
     "output_type": "execute_result"
    }
   ],
   "source": [
    "# 具体的函数对象\n",
    "fuction_to_call = available_functions[function_name]\n",
    "fuction_to_call"
   ]
  },
  {
   "cell_type": "code",
   "execution_count": 52,
   "id": "b1b5cf13-3242-414d-bef3-554ecca4f745",
   "metadata": {
    "tags": []
   },
   "outputs": [
    {
     "data": {
      "text/plain": [
       "'{\"loc\":\"Beijing\"}'"
      ]
     },
     "execution_count": 52,
     "metadata": {},
     "output_type": "execute_result"
    }
   ],
   "source": [
    "response_message.tool_calls[0].function.arguments"
   ]
  },
  {
   "cell_type": "code",
   "execution_count": 53,
   "id": "f7e59be6-2e00-4343-9605-819d75507424",
   "metadata": {
    "tags": []
   },
   "outputs": [
    {
     "data": {
      "text/plain": [
       "{'loc': 'Beijing'}"
      ]
     },
     "execution_count": 53,
     "metadata": {},
     "output_type": "execute_result"
    }
   ],
   "source": [
    "# 执行该函数所需要的参数\n",
    "function_args = json.loads(response_message.tool_calls[0].function.arguments)\n",
    "function_args"
   ]
  },
  {
   "cell_type": "markdown",
   "id": "18d4aeb9-0452-4ce2-804b-08f96f9bce7e",
   "metadata": {},
   "source": [
    "需要注意的是，外部函数的计算过程仍然是在本地执行，即Chat模型并不会将代码读取到服务器上再进行在线计算，因此接下来我们需要根据模型返回的函数和函数参数，在本地完成函数计算，然后再将计算过程和结果保存为message并追加到messages后面，并第二次调用Chat模型分析函数的计算结果，并最终根据函数计算结果输出用户问题的答案。"
   ]
  },
  {
   "cell_type": "markdown",
   "id": "2c027afd-2337-47c5-81d4-6ded2750b039",
   "metadata": {},
   "source": [
    "#### 2.2 Second response"
   ]
  },
  {
   "cell_type": "markdown",
   "id": "1977d06a-924a-46ce-b301-c6285efedbc5",
   "metadata": {},
   "source": [
    "&emsp;&emsp;这里我们只需要借助\\*\\*方法，直接将function_args对象传入fuction_to_call中，即可一次性传输全部参数，\\*\\*方法的功能可以参考如下示例："
   ]
  },
  {
   "cell_type": "code",
   "execution_count": 77,
   "id": "aba1d86d-c5da-4d09-b987-0c1a53337fe8",
   "metadata": {},
   "outputs": [
    {
     "name": "stdout",
     "output_type": "stream",
     "text": [
      "6\n"
     ]
    }
   ],
   "source": [
    "def function_to_call_test(a, b, c):\n",
    "    return a + b + c\n",
    "\n",
    "function_args_test = {'a': 1, 'b': 2, 'c': 3}\n",
    "\n",
    "result = function_to_call_test(**function_args_test)\n",
    "\n",
    "print(result)"
   ]
  },
  {
   "cell_type": "markdown",
   "id": "56ffde74-a118-4d3e-8b2d-65325ecfb8eb",
   "metadata": {},
   "source": [
    "\\*\\*方法其实是一种较为特殊、但同时也非常便捷的参数传递方法吗，该方法会将字典中的每个key对应的value传输到同名参数位中。接下来我们将function_args对象传入fuction_to_call中并完成计算："
   ]
  },
  {
   "cell_type": "code",
   "execution_count": 54,
   "id": "6cadbb0c-20c4-4a07-8fb8-bc33391ca1e3",
   "metadata": {
    "tags": []
   },
   "outputs": [],
   "source": [
    "function_response = fuction_to_call(**function_args)"
   ]
  },
  {
   "cell_type": "code",
   "execution_count": 56,
   "id": "2deb8506-963a-4ee0-afff-5fabade45037",
   "metadata": {
    "tags": []
   },
   "outputs": [
    {
     "data": {
      "text/plain": [
       "'{\"coord\": {\"lon\": 116.3972, \"lat\": 39.9075}, \"weather\": [{\"id\": 803, \"main\": \"Clouds\", \"description\": \"\\\\u591a\\\\u4e91\", \"icon\": \"04d\"}], \"base\": \"stations\", \"main\": {\"temp\": 8.94, \"feels_like\": 7.15, \"temp_min\": 8.94, \"temp_max\": 8.94, \"pressure\": 1021, \"humidity\": 22, \"sea_level\": 1021, \"grnd_level\": 1016}, \"visibility\": 10000, \"wind\": {\"speed\": 3.14, \"deg\": 188, \"gust\": 4.25}, \"clouds\": {\"all\": 79}, \"dt\": 1741081068, \"sys\": {\"type\": 1, \"id\": 9609, \"country\": \"CN\", \"sunrise\": 1741041829, \"sunset\": 1741082932}, \"timezone\": 28800, \"id\": 1816670, \"name\": \"Beijing\", \"cod\": 200}'"
      ]
     },
     "execution_count": 56,
     "metadata": {},
     "output_type": "execute_result"
    }
   ],
   "source": [
    "function_response"
   ]
  },
  {
   "cell_type": "markdown",
   "id": "7565e5c9-4467-4a14-917d-b2b02351d9ec",
   "metadata": {},
   "source": [
    "能够发现，模型已经顺利完成计算。接下来我们在messages对象中追加两条消息，第一条消息是第一次模型返回的结果（即调用模型的assistant message），第二条消息则是外部函数计算结果，该条消息的role为function，且name为函数名称。这也是我们首次接触function message，和user、system、assistant message不同，function message必须要输入关键词name，且function message的内容源于外部函数执行的计算结果，并且需要手动进行输入。具体添加过程如下："
   ]
  },
  {
   "cell_type": "code",
   "execution_count": 57,
   "id": "9a795185-86f6-4448-bc0a-1cf1327cdac4",
   "metadata": {
    "tags": []
   },
   "outputs": [
    {
     "data": {
      "text/plain": [
       "[{'role': 'user', 'content': '请帮我查询北京地区今日天气情况'}]"
      ]
     },
     "execution_count": 57,
     "metadata": {},
     "output_type": "execute_result"
    }
   ],
   "source": [
    "messages"
   ]
  },
  {
   "cell_type": "code",
   "execution_count": 58,
   "id": "d7f6fb23-4214-4fc1-990f-e18574f833d4",
   "metadata": {
    "tags": []
   },
   "outputs": [
    {
     "data": {
      "text/plain": [
       "{'content': '',\n",
       " 'refusal': None,\n",
       " 'role': 'assistant',\n",
       " 'audio': None,\n",
       " 'function_call': None,\n",
       " 'tool_calls': [{'id': 'call_0_48e82fa9-e94a-449c-a9d4-58318c2e9dad',\n",
       "   'function': {'arguments': '{\"loc\":\"Beijing\"}', 'name': 'get_weather'},\n",
       "   'type': 'function',\n",
       "   'index': 0}]}"
      ]
     },
     "execution_count": 58,
     "metadata": {},
     "output_type": "execute_result"
    }
   ],
   "source": [
    "response_message.model_dump()"
   ]
  },
  {
   "cell_type": "code",
   "execution_count": 59,
   "id": "ac51827c-5abb-467b-a406-190deb5aeb3a",
   "metadata": {
    "tags": []
   },
   "outputs": [],
   "source": [
    "# 追加第一次模型返回结果消息\n",
    "messages.append(response_message.model_dump())  "
   ]
  },
  {
   "cell_type": "code",
   "execution_count": 60,
   "id": "75843f3d-0f8f-4b2e-bf07-e64d712f8c11",
   "metadata": {
    "tags": []
   },
   "outputs": [
    {
     "data": {
      "text/plain": [
       "[{'role': 'user', 'content': '请帮我查询北京地区今日天气情况'},\n",
       " {'content': '',\n",
       "  'refusal': None,\n",
       "  'role': 'assistant',\n",
       "  'audio': None,\n",
       "  'function_call': None,\n",
       "  'tool_calls': [{'id': 'call_0_48e82fa9-e94a-449c-a9d4-58318c2e9dad',\n",
       "    'function': {'arguments': '{\"loc\":\"Beijing\"}', 'name': 'get_weather'},\n",
       "    'type': 'function',\n",
       "    'index': 0}]}]"
      ]
     },
     "execution_count": 60,
     "metadata": {},
     "output_type": "execute_result"
    }
   ],
   "source": [
    "messages"
   ]
  },
  {
   "cell_type": "code",
   "execution_count": 61,
   "id": "41c621ac-3366-46f8-8ce7-705be9fbf2a9",
   "metadata": {
    "tags": []
   },
   "outputs": [
    {
     "data": {
      "text/plain": [
       "'{\"coord\": {\"lon\": 116.3972, \"lat\": 39.9075}, \"weather\": [{\"id\": 803, \"main\": \"Clouds\", \"description\": \"\\\\u591a\\\\u4e91\", \"icon\": \"04d\"}], \"base\": \"stations\", \"main\": {\"temp\": 8.94, \"feels_like\": 7.15, \"temp_min\": 8.94, \"temp_max\": 8.94, \"pressure\": 1021, \"humidity\": 22, \"sea_level\": 1021, \"grnd_level\": 1016}, \"visibility\": 10000, \"wind\": {\"speed\": 3.14, \"deg\": 188, \"gust\": 4.25}, \"clouds\": {\"all\": 79}, \"dt\": 1741081068, \"sys\": {\"type\": 1, \"id\": 9609, \"country\": \"CN\", \"sunrise\": 1741041829, \"sunset\": 1741082932}, \"timezone\": 28800, \"id\": 1816670, \"name\": \"Beijing\", \"cod\": 200}'"
      ]
     },
     "execution_count": 61,
     "metadata": {},
     "output_type": "execute_result"
    }
   ],
   "source": [
    "function_response"
   ]
  },
  {
   "cell_type": "code",
   "execution_count": 62,
   "id": "85d3ea60-0b94-4d8d-b39a-9f094c39cf78",
   "metadata": {
    "tags": []
   },
   "outputs": [],
   "source": [
    "# 追加function返回消息\n",
    "messages.append({\n",
    "            \"role\": \"tool\",\n",
    "            \"content\": function_response,\n",
    "            \"tool_call_id\":response_message.tool_calls[0].id\n",
    "        })"
   ]
  },
  {
   "cell_type": "code",
   "execution_count": 63,
   "id": "65f38f95-8192-4c03-abc8-4dcd7e6bebc6",
   "metadata": {
    "tags": []
   },
   "outputs": [
    {
     "data": {
      "text/plain": [
       "[{'role': 'user', 'content': '请帮我查询北京地区今日天气情况'},\n",
       " {'content': '',\n",
       "  'refusal': None,\n",
       "  'role': 'assistant',\n",
       "  'audio': None,\n",
       "  'function_call': None,\n",
       "  'tool_calls': [{'id': 'call_0_48e82fa9-e94a-449c-a9d4-58318c2e9dad',\n",
       "    'function': {'arguments': '{\"loc\":\"Beijing\"}', 'name': 'get_weather'},\n",
       "    'type': 'function',\n",
       "    'index': 0}]},\n",
       " {'role': 'tool',\n",
       "  'content': '{\"coord\": {\"lon\": 116.3972, \"lat\": 39.9075}, \"weather\": [{\"id\": 803, \"main\": \"Clouds\", \"description\": \"\\\\u591a\\\\u4e91\", \"icon\": \"04d\"}], \"base\": \"stations\", \"main\": {\"temp\": 8.94, \"feels_like\": 7.15, \"temp_min\": 8.94, \"temp_max\": 8.94, \"pressure\": 1021, \"humidity\": 22, \"sea_level\": 1021, \"grnd_level\": 1016}, \"visibility\": 10000, \"wind\": {\"speed\": 3.14, \"deg\": 188, \"gust\": 4.25}, \"clouds\": {\"all\": 79}, \"dt\": 1741081068, \"sys\": {\"type\": 1, \"id\": 9609, \"country\": \"CN\", \"sunrise\": 1741041829, \"sunset\": 1741082932}, \"timezone\": 28800, \"id\": 1816670, \"name\": \"Beijing\", \"cod\": 200}',\n",
       "  'tool_call_id': 'call_0_48e82fa9-e94a-449c-a9d4-58318c2e9dad'}]"
      ]
     },
     "execution_count": 63,
     "metadata": {},
     "output_type": "execute_result"
    }
   ],
   "source": [
    "messages"
   ]
  },
  {
   "cell_type": "markdown",
   "id": "1f1cc497-5d6b-4ac8-8f33-52514ce1ee49",
   "metadata": {},
   "source": [
    "接下来，再次调用Chat模型来围绕messages进行回答。需要注意的是，此时我们不再需要向模型重复提问，只需要简单的将我们已经准备好的messages传入Chat模型即可："
   ]
  },
  {
   "cell_type": "code",
   "execution_count": 64,
   "id": "f4ab7e0e-d18f-4674-b2a3-5fc90501a8d3",
   "metadata": {
    "tags": []
   },
   "outputs": [],
   "source": [
    "second_response = client.chat.completions.create(\n",
    "    model=\"deepseek-chat\",\n",
    "    messages=messages)"
   ]
  },
  {
   "cell_type": "code",
   "execution_count": 65,
   "id": "b3991319-0142-4b0d-be1c-45b50ddafd90",
   "metadata": {
    "tags": []
   },
   "outputs": [
    {
     "data": {
      "text/plain": [
       "ChatCompletionMessage(content='根据查询结果，北京地区今日天气情况如下：\\n\\n- **天气状况**：多云\\n- **当前温度**：8.94°C\\n- **体感温度**：7.15°C\\n- **最低温度**：8.94°C\\n- **最高温度**：8.94°C\\n- **气压**：1021 hPa\\n- **湿度**：22%\\n- **风速**：3.14 m/s\\n- **风向**：188°\\n- **能见度**：10000米\\n\\n请注意根据天气情况合理安排出行和穿着。如果需要更详细的天气信息，可以随时告诉我！', refusal=None, role='assistant', audio=None, function_call=None, tool_calls=None)"
      ]
     },
     "execution_count": 65,
     "metadata": {},
     "output_type": "execute_result"
    }
   ],
   "source": [
    "second_response.choices[0].message"
   ]
  },
  {
   "cell_type": "markdown",
   "id": "354030fd-a272-4e22-aafd-3580a81ccdce",
   "metadata": {},
   "source": [
    "能够发现，模型最终做出了准确回答。"
   ]
  },
  {
   "cell_type": "code",
   "execution_count": 66,
   "id": "440c60c6-b082-4ad1-aefa-a6554f9d7f21",
   "metadata": {
    "tags": []
   },
   "outputs": [
    {
     "name": "stdout",
     "output_type": "stream",
     "text": [
      "根据查询结果，北京地区今日天气情况如下：\n",
      "\n",
      "- **天气状况**：多云\n",
      "- **当前温度**：8.94°C\n",
      "- **体感温度**：7.15°C\n",
      "- **最低温度**：8.94°C\n",
      "- **最高温度**：8.94°C\n",
      "- **气压**：1021 hPa\n",
      "- **湿度**：22%\n",
      "- **风速**：3.14 m/s\n",
      "- **风向**：188°\n",
      "- **能见度**：10000米\n",
      "\n",
      "请注意根据天气情况合理安排出行和穿着。如果需要更详细的天气信息，可以随时告诉我！\n"
     ]
    }
   ],
   "source": [
    "print(second_response.choices[0].message.content)"
   ]
  },
  {
   "cell_type": "code",
   "execution_count": 90,
   "id": "fa5c77a0-6eee-41cd-8c8d-af86a79c2a1c",
   "metadata": {
    "tags": []
   },
   "outputs": [
    {
     "data": {
      "text/plain": [
       "[{'type': 'function',\n",
       "  'function': {'name': 'get_weather',\n",
       "   'description': '查询即时天气函数，根据输入的城市名称，查询对应城市的实时天气',\n",
       "   'parameters': {'type': 'object',\n",
       "    'properties': {'loc': {'description': \"城市名称，注意，中国的城市需要用对应城市的英文名称代替，例如如果需要查询北京市天气，则loc参数需要输入'Beijing'\",\n",
       "      'type': 'string'}},\n",
       "    'required': ['loc']}}}]"
      ]
     },
     "execution_count": 90,
     "metadata": {},
     "output_type": "execute_result"
    }
   ],
   "source": [
    "tools"
   ]
  },
  {
   "cell_type": "code",
   "execution_count": 91,
   "id": "0dadb4de-2860-484a-8ce0-cee52af687d8",
   "metadata": {
    "tags": []
   },
   "outputs": [
    {
     "data": {
      "text/plain": [
       "<function __main__.get_weather(loc)>"
      ]
     },
     "execution_count": 91,
     "metadata": {},
     "output_type": "execute_result"
    }
   ],
   "source": [
    "get_weather"
   ]
  },
  {
   "cell_type": "code",
   "execution_count": 93,
   "id": "bf25b108-c4c4-4d72-bbb2-2cd3e634ccf1",
   "metadata": {},
   "outputs": [
    {
     "data": {
      "text/plain": [
       "'sk-77a327d8100340b48cfadf704a41c23b'"
      ]
     },
     "execution_count": 93,
     "metadata": {},
     "output_type": "execute_result"
    }
   ],
   "source": [
    "ds_api_key"
   ]
  },
  {
   "cell_type": "code",
   "execution_count": 94,
   "id": "3e9db28d-ab75-4813-9294-e74d13c95a65",
   "metadata": {
    "tags": []
   },
   "outputs": [],
   "source": [
    "def run_conv(messages, \n",
    "             api_key,\n",
    "             tools=None, \n",
    "             functions_list=None,\n",
    "             model=\"deepseek-chat\"):\n",
    "    \"\"\"\n",
    "    能够自动执行外部函数调用的Chat对话模型\n",
    "    :param messages: 必要参数，输入到Chat模型的messages参数对象\n",
    "    :param api_key: 必要参数，调用模型的API-KEY\n",
    "    :param tools: 可选参数，默认为None，可以设置为包含全部外部函数的列表对象\n",
    "    :param model: Chat模型，可选参数，默认模型为deepseek-chat\n",
    "    :return：Chat模型输出结果\n",
    "    \"\"\"\n",
    "    user_messages = messages\n",
    "    \n",
    "    client = OpenAI(api_key=api_key, \n",
    "                base_url=\"https://api.deepseek.com\")\n",
    "    \n",
    "    # 如果没有外部函数库，则执行普通的对话任务\n",
    "    if tools == None:\n",
    "        response = client.chat.completions.create(\n",
    "            model=model,  \n",
    "            messages=user_messages\n",
    "        )\n",
    "        final_response = response.choices[0].message.content\n",
    "        \n",
    "    # 若存在外部函数库，则需要灵活选取外部函数并进行回答\n",
    "    else:\n",
    "        # 创建外部函数库字典\n",
    "        available_functions = {func.__name__: func for func in functions_list}\n",
    "\n",
    "        # 创建包含用户问题的message\n",
    "        messages = user_messages\n",
    "        \n",
    "        # first response\n",
    "        response = client.chat.completions.create(\n",
    "            model=model,  \n",
    "            messages=user_messages,\n",
    "            tools=tools,\n",
    "        )\n",
    "        response_message = response.choices[0].message\n",
    "\n",
    "        # 获取函数名\n",
    "        function_name = response_message.tool_calls[0].function.name\n",
    "        # 获取函数对象\n",
    "        fuction_to_call = available_functions[function_name]\n",
    "        # 获取函数参数\n",
    "        function_args = json.loads(response_message.tool_calls[0].function.arguments)\n",
    "        \n",
    "        # 将函数参数输入到函数中，获取函数计算结果\n",
    "        function_response = fuction_to_call(**function_args)\n",
    "\n",
    "        # messages中拼接first response消息\n",
    "        user_messages.append(response_message.model_dump())  \n",
    "        \n",
    "        # messages中拼接外部函数输出结果\n",
    "        user_messages.append(\n",
    "            {\n",
    "                \"role\": \"tool\",\n",
    "                \"content\": function_response,\n",
    "                \"tool_call_id\":response_message.tool_calls[0].id\n",
    "            }\n",
    "        )\n",
    "        \n",
    "        # 第二次调用模型\n",
    "        second_response = client.chat.completions.create(\n",
    "            model=model,\n",
    "            messages=user_messages)\n",
    "            \n",
    "        # 获取最终结果\n",
    "        final_response = second_response.choices[0].message.content\n",
    "    \n",
    "    return final_response"
   ]
  },
  {
   "cell_type": "code",
   "execution_count": 95,
   "id": "0cbf3f30-2b86-4acd-81f1-5384274674e8",
   "metadata": {},
   "outputs": [],
   "source": [
    "messages = [{\"role\": \"user\", \"content\": \"请问什么是机器学习？\"}]"
   ]
  },
  {
   "cell_type": "code",
   "execution_count": 96,
   "id": "db5a4dcc-c51c-4346-9f67-4dc0c26359d9",
   "metadata": {},
   "outputs": [
    {
     "data": {
      "text/plain": [
       "'机器学习（Machine Learning, ML）是人工智能（Artificial Intelligence, AI）的一个子领域，旨在通过数据和算法让计算机系统具备从经验中学习和改进的能力，而无需显式编程。机器学习的核心思想是通过对大量数据的分析和模式识别，使计算机能够自动发现规律，并利用这些规律进行预测或决策。\\n\\n### 机器学习的主要类型\\n1. **监督学习（Supervised Learning）**  \\n   - 通过带有标签的数据（输入和对应的输出）训练模型，目标是学习输入到输出的映射关系。  \\n   - 常见任务：分类（如垃圾邮件识别）、回归（如房价预测）。  \\n   - 算法示例：线性回归、支持向量机（SVM）、决策树、神经网络。\\n\\n2. **无监督学习（Unsupervised Learning）**  \\n   - 使用未标记的数据，目标是发现数据中的隐藏结构或模式。  \\n   - 常见任务：聚类（如客户分群）、降维（如数据可视化）。  \\n   - 算法示例：K均值聚类、主成分分析（PCA）、自编码器。\\n\\n3. **半监督学习（Semi-supervised Learning）**  \\n   - 结合少量标记数据和大量未标记数据进行训练，适用于标记数据稀缺的场景。  \\n   - 常见任务：图像分类、文本分类。\\n\\n4. **强化学习（Reinforcement Learning, RL）**  \\n   - 通过与环境交互，基于奖励和惩罚机制学习策略，目标是最大化累积奖励。  \\n   - 常见任务：游戏AI（如AlphaGo）、机器人控制。  \\n   - 算法示例：Q-learning、深度Q网络（DQN）、策略梯度。\\n\\n5. **自监督学习（Self-supervised Learning）**  \\n   - 一种特殊的无监督学习，通过设计任务从数据中自动生成标签进行训练。  \\n   - 常见任务：自然语言处理（如BERT）、计算机视觉。\\n\\n### 机器学习的应用领域\\n机器学习已广泛应用于各个领域，包括但不限于：\\n- **计算机视觉**：图像分类、目标检测、人脸识别。\\n- **自然语言处理**：机器翻译、情感分析、聊天机器人。\\n- **推荐系统**：电商推荐、视频推荐。\\n- **医疗健康**：疾病诊断、药物研发。\\n- **金融**：风险评估、股票预测。\\n- **自动驾驶**：路径规划、环境感知。\\n\\n### 机器学习的基本流程\\n1. **数据收集**：获取高质量的数据是机器学习的基础。\\n2. **数据预处理**：清洗数据、处理缺失值、特征工程等。\\n3. **模型选择**：根据任务选择合适的算法和模型。\\n4. **模型训练**：使用训练数据拟合模型。\\n5. **模型评估**：通过测试数据评估模型的性能。\\n6. **模型优化**：调整超参数、改进模型结构。\\n7. **部署与应用**：将模型应用于实际场景。\\n\\n### 机器学习的挑战\\n- **数据质量**：数据噪声、偏差、缺失值等问题会影响模型性能。\\n- **过拟合与欠拟合**：模型在训练数据上表现良好，但在新数据上表现不佳，或模型过于简单无法捕捉数据规律。\\n- **计算资源**：深度学习等复杂模型需要大量计算资源。\\n- **可解释性**：某些模型（如深度学习）的决策过程难以解释。\\n\\n总之，机器学习是一种强大的工具，能够从数据中提取知识并解决实际问题，但其成功依赖于高质量的数据、合适的算法和有效的模型优化。'"
      ]
     },
     "execution_count": 96,
     "metadata": {},
     "output_type": "execute_result"
    }
   ],
   "source": [
    "run_conv(messages=messages, \n",
    "         api_key = ds_api_key)"
   ]
  },
  {
   "cell_type": "code",
   "execution_count": 97,
   "id": "ae87086a-9ba4-4f74-8eca-41b790b9d40c",
   "metadata": {
    "scrolled": true,
    "tags": []
   },
   "outputs": [
    {
     "data": {
      "text/plain": [
       "'北京今天的天气是多云，气温约为4.94°C，体感温度约为1.77°C。湿度为25%，风速为4.03米/秒，风向为300度。空气质量良好，能见度为10000米。'"
      ]
     },
     "execution_count": 97,
     "metadata": {},
     "output_type": "execute_result"
    }
   ],
   "source": [
    "messages = [{\"role\": \"user\", \"content\": \"请问北京今天天气如何？\"}]\n",
    "run_conv(messages=messages, \n",
    "         api_key = ds_api_key,\n",
    "         tools=tools, \n",
    "         functions_list=[get_weather])"
   ]
  }
 ],
 "metadata": {
  "kernelspec": {
   "display_name": "Python 3 (ipykernel)",
   "language": "python",
   "name": "python3"
  },
  "language_info": {
   "codemirror_mode": {
    "name": "ipython",
    "version": 3
   },
   "file_extension": ".py",
   "mimetype": "text/x-python",
   "name": "python",
   "nbconvert_exporter": "python",
   "pygments_lexer": "ipython3",
   "version": "3.12.3"
  }
 },
 "nbformat": 4,
 "nbformat_minor": 5
}
