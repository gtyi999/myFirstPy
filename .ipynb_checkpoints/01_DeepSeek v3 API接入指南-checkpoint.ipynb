{
 "cells": [
  {
   "cell_type": "markdown",
   "id": "668d7cfd-3bc5-4ccd-8a3b-abf7d0a4141e",
   "metadata": {},
   "source": [
    "\n",
    "# <center> DeepSeek v3 API接入"
   ]
  },
  {
   "cell_type": "markdown",
   "id": "cffd00aa-54e8-4b03-b209-0b454b9587af",
   "metadata": {},
   "source": [
    "- DeepSeek v3账号注册与API获取"
   ]
  },
  {
   "cell_type": "markdown",
   "id": "5d3e067d-e138-4061-aa11-df8ace914142",
   "metadata": {},
   "source": [
    "DeepSeek官网：https://www.deepseek.com/"
   ]
  },
  {
   "cell_type": "markdown",
   "id": "51c53661-a607-4f8e-abcd-52ec2eb4e0e3",
   "metadata": {},
   "source": [
    "<center><img src=\"./pic/1.png\" style=\"zoom:60%;\" />"
   ]
  },
  {
   "cell_type": "markdown",
   "id": "90415dc9-6e5f-4227-8b61-d33cc6f7948f",
   "metadata": {},
   "source": [
    "<center><img src=\"./pic/2.png\" style=\"zoom:70%;\" />"
   ]
  },
  {
   "cell_type": "markdown",
   "id": "44b9c050-d0cf-4f50-b220-e6b39607a48c",
   "metadata": {},
   "source": [
    "新用户注册即赠送10元额度，约500万token额度："
   ]
  },
  {
   "cell_type": "markdown",
   "id": "880e17b9-f1dd-4129-812f-c0303f98ad9e",
   "metadata": {},
   "source": [
    "<center><img src=\"./pic/3.png\" style=\"zoom:70%;\" />"
   ]
  },
  {
   "cell_type": "markdown",
   "id": "3f3d704a-1a75-46eb-9cd5-ea0fb42fa1ea",
   "metadata": {},
   "source": [
    "<center><img src=\"./pic/newprice.jpg\" style=\"zoom: 50%;\" />"
   ]
  },
  {
   "cell_type": "markdown",
   "id": "a43a9644-b8ba-442b-a3b8-8cca6939a01d",
   "metadata": {},
   "source": [
    "且API调用不限速："
   ]
  },
  {
   "cell_type": "code",
   "execution_count": null,
   "id": "597df762-9d2b-43ac-8e40-cbc55499aacd",
   "metadata": {},
   "outputs": [],
   "source": []
  },
  {
   "cell_type": "markdown",
   "id": "20ed8749-1528-46a8-a18d-ca9a08d1cad3",
   "metadata": {},
   "source": [
    "<center><img src=\"./pic/5.png\" style=\"zoom:70%;\" />"
   ]
  },
  {
   "cell_type": "markdown",
   "id": "40392df9-2cec-4ac3-b3e7-8da2c29bd7f2",
   "metadata": {},
   "source": [
    "最关键的是，调用风格和OpenAI完全一致：Function calling、提示词缓存、Json Output等功能完全相同："
   ]
  },
  {
   "cell_type": "markdown",
   "id": "df74d277-4a00-4994-98e3-281f10aa2ce5",
   "metadata": {},
   "source": [
    "<center><img src=\"./pic/6.png\" style=\"zoom:70%;\" />"
   ]
  },
  {
   "cell_type": "markdown",
   "id": "5d05c729-51c6-4678-ae0a-1cb926697e1c",
   "metadata": {},
   "source": [
    "<center><img src=\"https://ml2022.oss-cn-hangzhou.aliyuncs.com/img/image-20250107161058708.png\" alt=\"image-20250107161058708\" style=\"zoom:33%;\" />"
   ]
  },
  {
   "cell_type": "markdown",
   "id": "235d5ece-eb1e-4ba6-8194-9829b480298a",
   "metadata": {},
   "source": [
    "- DeepSeek v3调用流程"
   ]
  },
  {
   "cell_type": "markdown",
   "id": "0975e4f9-c4a4-48e8-bd84-b1391d7d03ee",
   "metadata": {},
   "source": [
    "对比OpenAI GPT4o调用流程："
   ]
  },
  {
   "cell_type": "code",
   "execution_count": 1,
   "id": "6d315fff-4669-4cff-8aaa-7f4c236e8b4a",
   "metadata": {
    "collapsed": true,
    "jupyter": {
     "outputs_hidden": true
    }
   },
   "outputs": [
    {
     "name": "stdout",
     "output_type": "stream",
     "text": [
      "Looking in indexes: http://mirrors.aliyun.com/pypi/simple\n",
      "Requirement already satisfied: openai in /root/miniconda3/lib/python3.12/site-packages (1.64.0)\n",
      "Requirement already satisfied: anyio<5,>=3.5.0 in /root/miniconda3/lib/python3.12/site-packages (from openai) (4.8.0)\n",
      "Requirement already satisfied: distro<2,>=1.7.0 in /root/miniconda3/lib/python3.12/site-packages (from openai) (1.9.0)\n",
      "Requirement already satisfied: httpx<1,>=0.23.0 in /root/miniconda3/lib/python3.12/site-packages (from openai) (0.27.2)\n",
      "Requirement already satisfied: jiter<1,>=0.4.0 in /root/miniconda3/lib/python3.12/site-packages (from openai) (0.8.2)\n",
      "Requirement already satisfied: pydantic<3,>=1.9.0 in /root/miniconda3/lib/python3.12/site-packages (from openai) (1.10.12)\n",
      "Requirement already satisfied: sniffio in /root/miniconda3/lib/python3.12/site-packages (from openai) (1.3.1)\n",
      "Requirement already satisfied: tqdm>4 in /root/miniconda3/lib/python3.12/site-packages (from openai) (4.67.1)\n",
      "Requirement already satisfied: typing-extensions<5,>=4.11 in /root/miniconda3/lib/python3.12/site-packages (from openai) (4.12.2)\n",
      "Requirement already satisfied: idna>=2.8 in /root/miniconda3/lib/python3.12/site-packages (from anyio<5,>=3.5.0->openai) (3.7)\n",
      "Requirement already satisfied: certifi in /root/miniconda3/lib/python3.12/site-packages (from httpx<1,>=0.23.0->openai) (2024.2.2)\n",
      "Requirement already satisfied: httpcore==1.* in /root/miniconda3/lib/python3.12/site-packages (from httpx<1,>=0.23.0->openai) (1.0.7)\n",
      "Requirement already satisfied: h11<0.15,>=0.13 in /root/miniconda3/lib/python3.12/site-packages (from httpcore==1.*->httpx<1,>=0.23.0->openai) (0.14.0)\n",
      "\u001b[33mWARNING: Running pip as the 'root' user can result in broken permissions and conflicting behaviour with the system package manager. It is recommended to use a virtual environment instead: https://pip.pypa.io/warnings/venv\u001b[0m\u001b[33m\n",
      "\u001b[0m"
     ]
    }
   ],
   "source": [
    "!pip install openai"
   ]
  },
  {
   "cell_type": "code",
   "execution_count": 2,
   "id": "e6820887-b857-49b4-82bd-a1310c3932d0",
   "metadata": {},
   "outputs": [],
   "source": [
    "import openai"
   ]
  },
  {
   "cell_type": "code",
   "execution_count": 3,
   "id": "79027151-e815-48a0-8221-dc5e7f330f60",
   "metadata": {},
   "outputs": [
    {
     "data": {
      "text/plain": [
       "'1.64.0'"
      ]
     },
     "execution_count": 3,
     "metadata": {},
     "output_type": "execute_result"
    }
   ],
   "source": [
    "openai.__version__"
   ]
  },
  {
   "cell_type": "code",
   "execution_count": 10,
   "id": "9cb547f9-d977-4720-b681-d3b3a6e4b0f9",
   "metadata": {},
   "outputs": [],
   "source": [
    "from openai import OpenAI"
   ]
  },
  {
   "cell_type": "code",
   "execution_count": 98,
   "id": "1ef31212-e4be-4c14-8ae5-39a18b98b709",
   "metadata": {},
   "outputs": [],
   "source": [
    "api_key = 'YOUR_API_KEY'"
   ]
  },
  {
   "cell_type": "code",
   "execution_count": 12,
   "id": "7b374eb0-a2c6-44cc-ac4f-67b1591ffb29",
   "metadata": {},
   "outputs": [],
   "source": [
    "# 实例化客户端\n",
    "client = OpenAI(api_key=api_key, \n",
    "                base_url=\"https://ai.devtool.tech/proxy/v1\")"
   ]
  },
  {
   "cell_type": "code",
   "execution_count": 13,
   "id": "79900538-4866-4808-a8f5-3ad701aadd81",
   "metadata": {},
   "outputs": [],
   "source": [
    "# 调用 GPT-4o-mini 模型\n",
    "response = client.chat.completions.create(\n",
    "    model=\"gpt-4o-mini\",\n",
    "    messages=[\n",
    "        {\"role\": \"user\", \"content\": \"你好，好久不见!\"}\n",
    "    ]\n",
    ")"
   ]
  },
  {
   "cell_type": "markdown",
   "id": "f296eaef-e6b1-4b08-afc6-5493e11ba735",
   "metadata": {},
   "source": [
    "上述代码中 model 参数指定了使用的模型（gpt-4o-mini），messages 列表定义了对话内容，其中 role 为 user 表示用户的输入内容。"
   ]
  },
  {
   "cell_type": "code",
   "execution_count": 14,
   "id": "8ba9ab34-6d99-409f-9cfb-c73eb8f4d3fe",
   "metadata": {},
   "outputs": [
    {
     "name": "stdout",
     "output_type": "stream",
     "text": [
      "你好！很高兴再次见到你！你最近怎么样？\n"
     ]
    }
   ],
   "source": [
    "# 输出生成的响应内容\n",
    "print(response.choices[0].message.content)"
   ]
  },
  {
   "cell_type": "code",
   "execution_count": 15,
   "id": "30e8546c-8f24-400f-85bc-d965ed153af4",
   "metadata": {},
   "outputs": [
    {
     "data": {
      "text/plain": [
       "ChatCompletion(id='chatcmpl-AmyljFoOE3EPBcKgrc2MxlUTs4Nfe', choices=[Choice(finish_reason='stop', index=0, logprobs=None, message=ChatCompletionMessage(content='你好！很高兴再次见到你！你最近怎么样？', refusal=None, role='assistant', audio=None, function_call=None, tool_calls=None))], created=1736236703, model='gpt-4o-mini-2024-07-18', object='chat.completion', service_tier=None, system_fingerprint='fp_d02d531b47', usage=CompletionUsage(completion_tokens=15, prompt_tokens=13, total_tokens=28, completion_tokens_details=CompletionTokensDetails(accepted_prediction_tokens=0, audio_tokens=0, reasoning_tokens=0, rejected_prediction_tokens=0), prompt_tokens_details=PromptTokensDetails(audio_tokens=0, cached_tokens=0)))"
      ]
     },
     "execution_count": 15,
     "metadata": {},
     "output_type": "execute_result"
    }
   ],
   "source": [
    "response"
   ]
  },
  {
   "cell_type": "markdown",
   "id": "c5688400-84c7-489a-ad27-a6b50ce5598f",
   "metadata": {},
   "source": [
    "DeepSeekv3调用流程:"
   ]
  },
  {
   "cell_type": "markdown",
   "id": "b7becbca-f7e7-4d4b-bdcf-71a36715ac4d",
   "metadata": {},
   "source": [
    "首先在官网申请API-KEY：https://platform.deepseek.com/api_keys"
   ]
  },
  {
   "cell_type": "markdown",
   "id": "dd575c0f-cd7b-4520-925f-7347a04a5fd0",
   "metadata": {},
   "source": [
    "<center><img src=\"./pic/8.png\" style=\"zoom:60%;\" />"
   ]
  },
  {
   "cell_type": "markdown",
   "id": "3b52283a-e45f-4222-a963-2a57381461e2",
   "metadata": {},
   "source": [
    "<center><img src=\"./pic/9.png\" style=\"zoom:70%;\" />"
   ]
  },
  {
   "cell_type": "markdown",
   "id": "ce289098-87ca-4256-9843-6a83e1f262bc",
   "metadata": {},
   "source": [
    "&emsp;&emsp;DeepSeek v3 模型属于聊天补全（chat completion）模型，模型提供了多种参数，帮助开发者定制化模型的生成行为。以下是对主要参数的详细解释，以及如何在 Python 中使用这些参数进行请求。"
   ]
  }
 ],
 "metadata": {
  "kernelspec": {
   "display_name": "Python 3 (ipykernel)",
   "language": "python",
   "name": "python3"
  },
  "language_info": {
   "codemirror_mode": {
    "name": "ipython",
    "version": 3
   },
   "file_extension": ".py",
   "mimetype": "text/x-python",
   "name": "python",
   "nbconvert_exporter": "python",
   "pygments_lexer": "ipython3",
   "version": "3.12.3"
  }
 },
 "nbformat": 4,
 "nbformat_minor": 5
}
