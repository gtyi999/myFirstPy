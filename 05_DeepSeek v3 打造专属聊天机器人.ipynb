{
 "cells": [
  {
   "cell_type": "markdown",
   "id": "9da331a3-b244-45b9-bcf2-8b2b39c041b9",
   "metadata": {},
   "source": [
    "## <center> DeepSeek v3 打造专属聊天机器人"
   ]
  },
  {
   "cell_type": "markdown",
   "id": "74c0f748-b1f6-450d-acbd-f49d06e27110",
   "metadata": {},
   "source": [
    "#### Open WebUI项目介绍"
   ]
  },
  {
   "cell_type": "markdown",
   "id": "18381fd1-2274-40c1-926e-db8b0ff65764",
   "metadata": {},
   "source": [
    "<div align=center><img src=\"./pic/13.png\" width=80%></div>"
   ]
  },
  {
   "cell_type": "markdown",
   "id": "3ac76e0e-ea89-48f8-9ddf-fd04d710a23b",
   "metadata": {},
   "source": [
    "> Open-webui Github : https://github.com/open-webui/open-webui"
   ]
  },
  {
   "cell_type": "markdown",
   "id": "cfd672bd-3145-4d8d-9506-84393f6d5334",
   "metadata": {},
   "source": [
    "🚀 **轻松安装**：通过 Docker 或 Kubernetes（kubectl、kustomize 或 helm）实现无缝安装，支持 :ollama 和 :cuda 标签镜像，带来无忧体验。\n",
    "\n",
    "🤝 **Ollama/OpenAI API 集成**：轻松集成与 OpenAI 兼容的 API，支持与 Ollama 模型的多样化对话。自定义 OpenAI API URL，可与 LMStudio、GroqCloud、Mistral、OpenRouter 等平台对接。\n",
    "\n",
    "🛡️ **细粒度权限和用户组**：管理员可以创建详细的用户角色和权限，确保用户环境的安全性。这种细粒度管理不仅增强了安全性，还允许定制化的用户体验，培养用户的责任感与归属感。\n",
    "\n",
    "📱 **响应式设计**：在桌面PC、笔记本和移动设备上都能享受无缝的使用体验。\n",
    "\n",
    "✒️🔢 **完整的 Markdown 和 LaTeX 支持**：通过全面的 Markdown 和 LaTeX 支持，提升 LLM（大语言模型）体验，让交互更为丰富。\n",
    "\n",
    "🎤📹 **免提语音/视频通话**：享受无缝的语音和视频通话功能，提供更为动态和互动的聊天环境。\n",
    "\n",
    "🛠️ **模型构建器**：通过 Web UI 轻松创建 Ollama 模型。创建并添加自定义角色/代理，定制聊天元素，并通过 Open WebUI 社区集成轻松导入模型。\n",
    "\n",
    "🐍 **原生 Python 函数调用工具**：通过内置代码编辑器支持，增强 LLM 功能。通过“Bring Your Own Function” (BYOF) 轻松集成自己的 Python 函数，与 LLM 无缝对接。\n",
    "\n",
    "📚 **本地 RAG 集成**：体验未来的聊天互动，开创性的检索增强生成（RAG）支持，让文档互动无缝融入聊天体验。您可以直接将文档加载到聊天中，或通过 # 命令将文件添加到文档库，方便在查询时访问。\n",
    "\n",
    "🔍 **Web 搜索集成 RAG**：通过 SearXNG、Google PSE、Brave Search、serpstack、serper、Serply、DuckDuckGo、TavilySearch、SearchApi 和 Bing 等搜索引擎提供商执行 Web 搜索，并将结果直接注入到您的聊天体验中。\n",
    "\n",
    "🌐 **Web 浏览功能**：通过 # 命令加 URL，无缝集成网站内容到聊天体验中，增强互动的丰富性和深度。\n",
    "\n",
    "🎨 **图像生成集成**：通过 AUTOMATIC1111 API 或 ComfyUI（本地）以及 OpenAI 的 DALL-E（外部）等选项，轻松集成图像生成功能，为聊天体验增添动态视觉内容。\n",
    "\n",
    "⚙️ **多模型对话**：轻松与多种模型同时互动，利用各自的优势提供最优回应。通过并行利用多种模型，提升聊天效果。\n",
    "\n",
    "🔐 **基于角色的访问控制（RBAC）**：确保安全的访问控制，只有授权用户才能访问 Ollama，模型创建/拉取权限仅限管理员。\n",
    "\n",
    "🌐🌍 **多语言支持**：体验您喜欢的语言版本的 Open WebUI，我们提供国际化（i18n）支持，积极拓展更多语言！欢迎加入我们成为贡献者！\n",
    "\n",
    "🧩 **管道与 Open WebUI 插件支持**：通过管道插件框架，无缝集成自定义逻辑和 Python 库到 Open WebUI。启动您的管道实例，设置 OpenAI URL 为管道 URL，探索无限可能性。功能示例包括函数调用、用户速率限制、使用监控（如 Langfuse）、实时翻译（如 LibreTranslate 多语言支持）、有害信息过滤等。\n",
    "\n",
    "🌟 **持续更新**：我们承诺定期更新 Open WebUI，提供修复和新增功能，不断优化用户体验。"
   ]
  },
  {
   "cell_type": "markdown",
   "id": "1ad08144-ae79-4a8e-bf61-df3a566c8b0e",
   "metadata": {},
   "source": [
    "&emsp;&emsp;这里我们是可以关注到，**`Open WebUI`项目支持接入在线大模型和开源大模型，比如 OpenAI、GLM4、Qwen2.5等等，均可以通过`Open WebUI`的 `Functions` 功能来灵活的接入，支持一键导入配置**，比如："
   ]
  },
  {
   "cell_type": "markdown",
   "id": "1b833dd3-bf85-41f8-82d1-bf541c1d48f4",
   "metadata": {},
   "source": [
    "> Open WebUI Functions：https://openwebui.com/functions"
   ]
  },
  {
   "cell_type": "markdown",
   "id": "62e2df97-7655-47a0-a89c-782d30eadd58",
   "metadata": {},
   "source": [
    "<div align=center><img src=\"./pic/14.png\" width=100%></div>"
   ]
  },
  {
   "cell_type": "markdown",
   "id": "94c2a793-1a4a-4201-9e62-05ad125e6376",
   "metadata": {},
   "source": [
    "&emsp;&emsp;在 Open WebUI 项目中，Functions（功能）通常是指该项目提供的可以执行特定任务或操作的模块或方法。这些功能可以帮助用户与大模型进行交互、配置模型参数、获取输出结果等。具体来说，这些 Functions 包括文本生成、模型参数调节、会话管理功能、API 接口、模型选择和管理等实现细节。"
   ]
  },
  {
   "cell_type": "markdown",
   "id": "928e836b-996a-437d-8e54-8bff7841d0d0",
   "metadata": {},
   "source": [
    "- DeepSeek v3接入Open-WebUI流程"
   ]
  },
  {
   "cell_type": "markdown",
   "id": "5ccac16f-0d52-48d5-846b-d4321adf9c67",
   "metadata": {},
   "source": [
    "&emsp;&emsp;首先需要创建虚拟环境："
   ]
  },
  {
   "cell_type": "markdown",
   "id": "799bd781-287f-480c-93ba-b860d23f31d8",
   "metadata": {},
   "source": [
    "```bash\n",
    "conda create -n open-webui python=3.11\n",
    "conda init\n",
    "source ~/.bashrc\n",
    "conda activate open-webui\n",
    "```"
   ]
  },
  {
   "cell_type": "markdown",
   "id": "b0badf48-776d-4b0f-8da1-e7d089277717",
   "metadata": {},
   "source": [
    "然后安装Open-WebUI项目："
   ]
  },
  {
   "cell_type": "markdown",
   "id": "35018add-45cf-499f-9a21-7f2a17407b19",
   "metadata": {},
   "source": [
    "```bash\n",
    "pip install open-webui -i https://pypi.tuna.tsinghua.edu.cn/simple\n",
    "```"
   ]
  },
  {
   "cell_type": "markdown",
   "id": "84569029-d6ef-488b-af1b-d994f1a58574",
   "metadata": {},
   "source": [
    "然后开启服务："
   ]
  },
  {
   "cell_type": "markdown",
   "id": "c3dad8f0-02a3-491c-889a-b3104bde1e40",
   "metadata": {},
   "source": [
    "```bash\n",
    "open-webui serve --port 8890\n",
    "```"
   ]
  },
  {
   "cell_type": "markdown",
   "id": "42366666-3360-4c3b-b149-69b55f5d2f25",
   "metadata": {},
   "source": [
    "后续我们将直接使用Open-WebUI作为前端工具，调用DeepSeek v3模型。"
   ]
  }
 ],
 "metadata": {
  "kernelspec": {
   "display_name": "Python 3 (ipykernel)",
   "language": "python",
   "name": "python3"
  },
  "language_info": {
   "codemirror_mode": {
    "name": "ipython",
    "version": 3
   },
   "file_extension": ".py",
   "mimetype": "text/x-python",
   "name": "python",
   "nbconvert_exporter": "python",
   "pygments_lexer": "ipython3",
   "version": "3.12.0"
  }
 },
 "nbformat": 4,
 "nbformat_minor": 5
}
